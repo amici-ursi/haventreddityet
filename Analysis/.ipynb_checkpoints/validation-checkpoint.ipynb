{
 "metadata": {
  "name": "",
  "signature": "sha256:fdf4af2fd62d3127c52513df687b3ba74783f13528aa08475e35e5485292b1bd"
 },
 "nbformat": 3,
 "nbformat_minor": 0,
 "worksheets": [
  {
   "cells": [
    {
     "cell_type": "code",
     "collapsed": false,
     "input": [
      "import pickle\n",
      "import operator\n",
      "\n",
      "sub_dict = pickle.load(open('../data/sub_dict.pkl','rd'))\n",
      "adj_dict = pickle.load(open('../data/adj_dict.pkl','rd'))"
     ],
     "language": "python",
     "metadata": {},
     "outputs": [],
     "prompt_number": 72
    },
    {
     "cell_type": "code",
     "collapsed": false,
     "input": [
      "#make holdout set\n",
      "red_dict = pickle.load(open('../data/red_dict.pkl','rd'))\n",
      "holdout = dict()\n",
      "red_valid = red_dict.copy()\n",
      "for red in red_dict:\n",
      "    #if len(red_dict[red]) < 10:\n",
      "    #    continue\n",
      "    for i in red_dict[red]:\n",
      "        holdout[red] = i\n",
      "        red_valid[red].remove(i)\n",
      "        break"
     ],
     "language": "python",
     "metadata": {},
     "outputs": [],
     "prompt_number": 105
    },
    {
     "cell_type": "code",
     "collapsed": false,
     "input": [
      "#this function makes a list of recommended subreddits for a given redditor\n",
      "def get_recs(redditor, red_valid, adj_dic):\n",
      "    rec_dict = dict()\n",
      "    for sub in red_valid[redditor]:\n",
      "        if sub not in adj_dic:\n",
      "            continue\n",
      "        com_subs = adj_dic[sub]\n",
      "        for com in com_subs:\n",
      "            if com[0] in rec_dict:\n",
      "                #rec_dict[com[0]] = max(rec_dict[com[0]],com[1])\n",
      "                rec_dict[com[0]] += com[1]\n",
      "            else:\n",
      "                rec_dict[com[0]] = com[1]\n",
      "    return rec_dict"
     ],
     "language": "python",
     "metadata": {},
     "outputs": [],
     "prompt_number": 159
    },
    {
     "cell_type": "code",
     "collapsed": false,
     "input": [
      "#this function gets the ordered top ten list from a recommended dict\n",
      "def get_top_ten(rec_dict):\n",
      "    rec_list = list()\n",
      "    rec_cp = rec_dict.copy()\n",
      "    for sub in rec_dict:\n",
      "        top_sub, r = max(rec_cp.iteritems(), key=operator.itemgetter(1))\n",
      "        rec_list.append((top_sub,r))\n",
      "        del rec_cp[top_sub]\n",
      "    return rec_list"
     ],
     "language": "python",
     "metadata": {},
     "outputs": [],
     "prompt_number": 160
    },
    {
     "cell_type": "code",
     "collapsed": false,
     "input": [
      "#calculate the accuracy of the Jaccard model\n",
      "thresholds = range(1000)\n",
      "p_list = [0.0]*len(thresholds)\n",
      "norm = 1./float(len(holdout))\n",
      "for red in holdout:\n",
      "    rec_dict = get_recs(red,red_valid,adj_dict)\n",
      "    all_recs = get_top_ten(rec_dict)\n",
      "    for i in range(len(p_list)):\n",
      "        top_rec = all_recs[:thresholds[i]]\n",
      "        for rec in top_rec:\n",
      "            if rec[0] == holdout[red]:\n",
      "                p_list[i] += norm "
     ],
     "language": "python",
     "metadata": {},
     "outputs": [],
     "prompt_number": 161
    },
    {
     "cell_type": "code",
     "collapsed": false,
     "input": [
      "#calculation the random choice model \n",
      "n_subreddits = 17190 #len(set(adj_dict))\n",
      "c_list = [float(t)/float(n_subreddits-t) for t in thresholds]"
     ],
     "language": "python",
     "metadata": {},
     "outputs": [],
     "prompt_number": 113
    },
    {
     "cell_type": "code",
     "collapsed": false,
     "input": [
      "import pandas as pd\n",
      "df = pd.read_csv(\"../data/com_redditors.csv\")\n",
      "subreddit_list = df.subreddit[:10000]"
     ],
     "language": "python",
     "metadata": {},
     "outputs": [],
     "prompt_number": 124
    },
    {
     "cell_type": "code",
     "collapsed": false,
     "input": [
      "#calculate most popular subreddits model. (next 3 cells)\n",
      "hist = dict()\n",
      "for subreddit in subreddit_list:\n",
      "    hist[subreddit] = list(subreddit_list).count(subreddit) \n",
      "print len(hist)"
     ],
     "language": "python",
     "metadata": {},
     "outputs": [
      {
       "output_type": "stream",
       "stream": "stdout",
       "text": [
        "1474\n"
       ]
      }
     ],
     "prompt_number": 127
    },
    {
     "cell_type": "code",
     "collapsed": false,
     "input": [
      "hist2 = hist.copy()\n",
      "trec_list = list()\n",
      "for i in range(1000):\n",
      "    current_max = max(hist2.iteritems(), key=operator.itemgetter(1))[0]\n",
      "    trec_list.append(current_max)\n",
      "    del hist2[current_max]"
     ],
     "language": "python",
     "metadata": {},
     "outputs": [],
     "prompt_number": 132
    },
    {
     "cell_type": "code",
     "collapsed": false,
     "input": [
      "t_list = [0.]*len(thresholds)\n",
      "for red in holdout:\n",
      "    for i in range(len(t_list)):\n",
      "        top_rec = trec_list[:thresholds[i]]\n",
      "        for rec in top_rec:\n",
      "            if rec == holdout[red]:\n",
      "                t_list[i] += norm"
     ],
     "language": "python",
     "metadata": {},
     "outputs": [],
     "prompt_number": 141
    },
    {
     "cell_type": "code",
     "collapsed": false,
     "input": [],
     "language": "python",
     "metadata": {},
     "outputs": [],
     "prompt_number": 141
    },
    {
     "cell_type": "code",
     "collapsed": false,
     "input": [
      "#plot the accuracy of the different models\n",
      "import matplotlib.pyplot as plt\n",
      "L1 = plt.plot(thresholds[:100],p_list[:100],linewidth=2.0)\n",
      "L2 = plt.plot(thresholds[:100],t_list[:100],linewidth=2.0)\n",
      "L3 = plt.plot(thresholds[:100],c_list[:100],linewidth=2.0)\n",
      "plt.title('Model accuracy')\n",
      "#plt.xscale('log')\n",
      "plt.ylim([0,1])\n",
      "plt.xlabel('Number of top recommendations to choose from')\n",
      "plt.ylabel('Accuracy')\n",
      "plt.legend(['Jaccard model (lower limit)','Most popular model','random chance'], loc='upper left')\n",
      "plt.show()"
     ],
     "language": "python",
     "metadata": {},
     "outputs": [],
     "prompt_number": 163
    },
    {
     "cell_type": "code",
     "collapsed": false,
     "input": [],
     "language": "python",
     "metadata": {},
     "outputs": []
    },
    {
     "cell_type": "code",
     "collapsed": false,
     "input": [],
     "language": "python",
     "metadata": {},
     "outputs": []
    }
   ],
   "metadata": {}
  }
 ]
}