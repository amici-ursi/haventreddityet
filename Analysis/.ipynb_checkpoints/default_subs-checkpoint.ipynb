{
 "metadata": {
  "name": "",
  "signature": "sha256:8f8127a672d45aecd9f59217732b5d3d8bf5b501f72df2282e81022c29eed644"
 },
 "nbformat": 3,
 "nbformat_minor": 0,
 "worksheets": [
  {
   "cells": [
    {
     "cell_type": "heading",
     "level": 1,
     "metadata": {},
     "source": [
      "Default subreddits"
     ]
    },
    {
     "cell_type": "markdown",
     "metadata": {},
     "source": [
      "This file makes a dictionary of the current default subreddits. "
     ]
    },
    {
     "cell_type": "code",
     "collapsed": false,
     "input": [
      "default_subreddits = [\n",
      "\"AdviceAnimals\"\n",
      ",\"announcements\"\n",
      ",\"Art\"\n",
      ",\"AskReddit\"\n",
      ",\"askscience\"\n",
      ",\"aww\"\n",
      ",\"blog\"\n",
      ",\"books\"\n",
      ",\"creepy\"\n",
      ",\"dataisbeautiful\"\n",
      ",\"DIY\"\n",
      ",\"Documentaries\"\n",
      ",\"EarthPorn\"\n",
      ",\"explainlikeimfive\"\n",
      ",\"Fitness\"\n",
      ",\"food\"\n",
      ",\"funny\"\n",
      ",\"Futurology\"\n",
      ",\"gadgets\"\n",
      ",\"gaming\"\n",
      ",\"GetMotivated\"\n",
      ",\"gifs\"\n",
      ",\"history\"\n",
      ",\"IAmA\"\n",
      ",\"InternetIsBeautiful\"\n",
      ",\"Jokes\"\n",
      ",\"LifeProTips\"\n",
      ",\"listentothis\"\n",
      ",\"mildlyinteresting\"\n",
      ",\"movies\"\n",
      ",\"Music\"\n",
      ",\"news\"\n",
      ",\"nosleep\"\n",
      ",\"nottheonion\"\n",
      ",\"OldSchoolCool\"\n",
      ",\"personalfinance\"\n",
      ",\"philosophy\"\n",
      ",\"photoshopbattles\"\n",
      ",\"pics\"\n",
      ",\"science\"\n",
      ",\"Showerthoughts\"\n",
      ",\"space\"\n",
      ",\"sports\"\n",
      ",\"television\"\n",
      ",\"tifu\"\n",
      ",\"todayilearned\"\n",
      ",\"TwoXChromosomes\"\n",
      ",\"UpliftingNews\"\n",
      ",\"videos\"\n",
      ",\"worldnews\"\n",
      ",\"writingprompts\"]"
     ],
     "language": "python",
     "metadata": {},
     "outputs": [],
     "prompt_number": 2
    },
    {
     "cell_type": "code",
     "collapsed": false,
     "input": [
      "import pickle \n",
      "pickle.dump(default_subreddits,open('../data/default_subs_dict.pkl','wd'))"
     ],
     "language": "python",
     "metadata": {},
     "outputs": [],
     "prompt_number": 3
    }
   ],
   "metadata": {}
  }
 ]
}