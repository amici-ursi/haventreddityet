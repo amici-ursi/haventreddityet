{
 "metadata": {
  "name": "",
  "signature": "sha256:2d937b63f91da168839555bbf232288866f5c434144b214eeef6af7315af8a44"
 },
 "nbformat": 3,
 "nbformat_minor": 0,
 "worksheets": [
  {
   "cells": [
    {
     "cell_type": "heading",
     "level": 1,
     "metadata": {},
     "source": [
      "Make dictionary for redditors"
     ]
    },
    {
     "cell_type": "markdown",
     "metadata": {},
     "source": [
      "This file makes a dictionary of redditors with the subreddits they're are subscribed to. The dictionary is generated with the file /data/com_reddiors.csv"
     ]
    },
    {
     "cell_type": "code",
     "collapsed": false,
     "input": [
      "import pandas as pd\n",
      "import pickle"
     ],
     "language": "python",
     "metadata": {},
     "outputs": [],
     "prompt_number": 1
    },
    {
     "cell_type": "code",
     "collapsed": false,
     "input": [
      "df = pd.read_csv('../data/com_redditors.csv')\n",
      "print \"number of redditors: \", len(set(df.redditor))\n",
      "print \"number of subreddits: \", len(set(df.subreddit))"
     ],
     "language": "python",
     "metadata": {},
     "outputs": [
      {
       "output_type": "stream",
       "stream": "stdout",
       "text": [
        "number of redditors:  "
       ]
      },
      {
       "output_type": "stream",
       "stream": "stdout",
       "text": [
        "325960\n",
        "number of subreddits:  "
       ]
      },
      {
       "output_type": "stream",
       "stream": "stdout",
       "text": [
        "18573\n"
       ]
      }
     ],
     "prompt_number": 3
    },
    {
     "cell_type": "code",
     "collapsed": false,
     "input": [
      "def make_redditor_dict(data, n_redditors):\n",
      "    redditor_dict = dict()\n",
      "    redditors = set(data.redditor)\n",
      "    n = 0\n",
      "    for redditor in redditors:\n",
      "        sub_set = set(data[data.redditor==redditor].subreddit)\n",
      "        if len(sub_set)<=2:\n",
      "            continue\n",
      "        redditor_dict[redditor] = sub_set\n",
      "        n += 1\n",
      "        if n >= n_redditors:\n",
      "            break\n",
      "    return redditor_dict"
     ],
     "language": "python",
     "metadata": {},
     "outputs": [],
     "prompt_number": 26
    },
    {
     "cell_type": "code",
     "collapsed": false,
     "input": [
      "red_dict = make_redditor_dict(df, 1000)\n",
      "pickle.dump(red_dict, open('../data/red_dict.pkl','w'))\n"
     ],
     "language": "python",
     "metadata": {},
     "outputs": [
      {
       "metadata": {},
       "output_type": "pyout",
       "prompt_number": 28,
       "text": [
        "1000"
       ]
      }
     ],
     "prompt_number": 28
    }
   ],
   "metadata": {}
  }
 ]
}