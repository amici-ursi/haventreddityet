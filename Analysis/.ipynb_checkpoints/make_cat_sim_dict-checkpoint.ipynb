{
 "metadata": {
  "name": "",
  "signature": "sha256:83d63b8ad537ce49ac8d3ea9b2ee1f5a5a5c039a62819e7e3f150fc9afa5b3e1"
 },
 "nbformat": 3,
 "nbformat_minor": 0,
 "worksheets": [
  {
   "cells": [
    {
     "cell_type": "heading",
     "level": 1,
     "metadata": {},
     "source": [
      "make category similarity dictionary"
     ]
    },
    {
     "cell_type": "markdown",
     "metadata": {},
     "source": [
      "This file make a dictionary of subreddits with its similarity to each of the 12 defined categories "
     ]
    },
    {
     "cell_type": "code",
     "collapsed": false,
     "input": [
      "import pickle"
     ],
     "language": "python",
     "metadata": {},
     "outputs": [],
     "prompt_number": 1
    },
    {
     "cell_type": "heading",
     "level": 3,
     "metadata": {},
     "source": [
      "Load categories and adjacent dictionary"
     ]
    },
    {
     "cell_type": "code",
     "collapsed": false,
     "input": [
      "cat_dict = pickle.load(open('../data/cat_dict.pkl','rd'))\n",
      "adj_dict = pickle.load(open('../data/adj_dict.pkl','rd'))"
     ],
     "language": "python",
     "metadata": {},
     "outputs": [],
     "prompt_number": 2
    },
    {
     "cell_type": "heading",
     "level": 3,
     "metadata": {},
     "source": [
      "Category similarity"
     ]
    },
    {
     "cell_type": "markdown",
     "metadata": {},
     "source": [
      "The similarity of a given subreddit to a category is calculated as the jaccard similarity divided by the total number of subreddits that define that category"
     ]
    },
    {
     "cell_type": "code",
     "collapsed": false,
     "input": [
      "#This is the order i want the categories in\n",
      "cat_order = ['reddit','entertainment','gaming','sports',\\\n",
      "              'place','political','science','tech',\\\n",
      "              'life','hobbies','culture','nsfw']\n",
      "\n",
      "def get_cat_sim(cat_dict,adj_dict,subreddit):\n",
      "    sim = list()\n",
      "    for cat in cat_order:\n",
      "        sim.append([cat,0.])\n",
      "        norm = 1./float(len(cat_dict[cat]))\n",
      "        \n",
      "        #the jaccard similarities are already calculated in the adj_dict\n",
      "        for subr in adj_dict[subreddit]:\n",
      "            if subr[0] in cat_dict[cat]:\n",
      "                sim[-1][1] += subr[1]/norm\n",
      "                                \n",
      "    #normalize vector to interperate as a prob\n",
      "    tot = sum([x[1] for x in sim])\n",
      "    if tot == 0: tot = 1.\n",
      "    for i in range(len(sim)):\n",
      "        sim[i][1] *= 1./tot\n",
      "    \n",
      "    return sim"
     ],
     "language": "python",
     "metadata": {},
     "outputs": [],
     "prompt_number": 3
    },
    {
     "cell_type": "heading",
     "level": 3,
     "metadata": {},
     "source": [
      "Run and save"
     ]
    },
    {
     "cell_type": "code",
     "collapsed": false,
     "input": [
      "cat_sim_dict = dict()\n",
      "for subr in adj_dict:\n",
      "    cat_sim_dict[subr] = get_cat_sim(cat_dict, adj_dict, subr)\n",
      "pickle.dump(cat_sim_dict,open('../data/cat_sim_dict.pkl','wd'))"
     ],
     "language": "python",
     "metadata": {},
     "outputs": [],
     "prompt_number": 4
    }
   ],
   "metadata": {}
  }
 ]
}