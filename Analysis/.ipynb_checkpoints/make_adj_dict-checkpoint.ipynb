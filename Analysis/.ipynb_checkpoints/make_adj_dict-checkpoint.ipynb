{
 "metadata": {
  "name": "",
  "signature": "sha256:4c6fdf506ab99b75da6be3197f015bbf0fa4046ae669c11b606645092bc01893"
 },
 "nbformat": 3,
 "nbformat_minor": 0,
 "worksheets": [
  {
   "cells": [
    {
     "cell_type": "heading",
     "level": 1,
     "metadata": {},
     "source": [
      "Make adjacent dictionary"
     ]
    },
    {
     "cell_type": "markdown",
     "metadata": {},
     "source": [
      "This file make a dictionary of subreddits with a set of all adjacent subreddits as the values. Subreddits are considered to be adjacent if they have a jaccard similarity > 0.00001. "
     ]
    },
    {
     "cell_type": "code",
     "collapsed": false,
     "input": [
      "import pandas as pd\n",
      "import pickle"
     ],
     "language": "python",
     "metadata": {},
     "outputs": [],
     "prompt_number": 1
    },
    {
     "cell_type": "heading",
     "level": 1,
     "metadata": {},
     "source": [
      "Jaccard similarity "
     ]
    },
    {
     "cell_type": "code",
     "collapsed": false,
     "input": [
      "\n",
      "#the jaccard similarity is simply the interection of the users in both subreddits, divided by the union. \n",
      "def sim_jaccard(set_a, set_b):\n",
      "    inter = float(len(set_a.intersection(set_b)))\n",
      "    if inter < 3:\n",
      "        return 0.0\n",
      "    else:\n",
      "        return inter/float(len(set_a.union(set_b)))\n",
      "\n",
      "#Here the jaccard similarity is calculated for each subreddit against all subreddits\n",
      "#A similarity threshold must be given\n",
      "def make_adj_dict(subr_dict, sim_threshold = 0.01):\n",
      "    adj_dict = dict()\n",
      "    cnt = 0\n",
      "    for subr_target in subr_dict:\n",
      "        if cnt % 1000 == 0: \n",
      "            print cnt, \" subreddits processed\"\n",
      "        cnt += 1\n",
      "        for subr in subr_dict:\n",
      "            \n",
      "            sim = sim_jaccard(subr_dict[subr_target], subr_dict[subr])\n",
      "            if  sim >= sim_threshold and subr_target != subr:\n",
      "                \n",
      "                if subr_target not in adj_dict:\n",
      "                    adj_dict[subr_target] = set()\n",
      "                \n",
      "                adj_dict[subr_target].add((subr, sim))\n",
      "    return adj_dict\n",
      "        "
     ],
     "language": "python",
     "metadata": {},
     "outputs": [],
     "prompt_number": 41
    },
    {
     "cell_type": "heading",
     "level": 3,
     "metadata": {},
     "source": [
      "Run and save"
     ]
    },
    {
     "cell_type": "code",
     "collapsed": false,
     "input": [
      "sub_dict = pickle.load(open('../data/sub_dict.pkl','rd'))\n",
      "adj_dict = make_adj_dict(sub_dict, sim_threshold = 0.00001)\n",
      "pickle.dump(adj_dict, open('../data/adj_dict.pkl','w'))"
     ],
     "language": "python",
     "metadata": {},
     "outputs": [
      {
       "output_type": "stream",
       "stream": "stdout",
       "text": [
        "0  subreddits processed\n",
        "1000"
       ]
      },
      {
       "output_type": "stream",
       "stream": "stdout",
       "text": [
        "  subreddits processed\n",
        "2000"
       ]
      },
      {
       "output_type": "stream",
       "stream": "stdout",
       "text": [
        "  subreddits processed\n",
        "3000"
       ]
      },
      {
       "output_type": "stream",
       "stream": "stdout",
       "text": [
        "  subreddits processed\n",
        "4000"
       ]
      },
      {
       "output_type": "stream",
       "stream": "stdout",
       "text": [
        "  subreddits processed\n",
        "5000"
       ]
      },
      {
       "output_type": "stream",
       "stream": "stdout",
       "text": [
        "  subreddits processed\n",
        "6000"
       ]
      },
      {
       "output_type": "stream",
       "stream": "stdout",
       "text": [
        "  subreddits processed\n",
        "7000"
       ]
      },
      {
       "output_type": "stream",
       "stream": "stdout",
       "text": [
        "  subreddits processed\n",
        "8000"
       ]
      },
      {
       "output_type": "stream",
       "stream": "stdout",
       "text": [
        "  subreddits processed\n",
        "9000"
       ]
      },
      {
       "output_type": "stream",
       "stream": "stdout",
       "text": [
        "  subreddits processed\n",
        "10000"
       ]
      },
      {
       "output_type": "stream",
       "stream": "stdout",
       "text": [
        "  subreddits processed\n",
        "11000"
       ]
      },
      {
       "output_type": "stream",
       "stream": "stdout",
       "text": [
        "  subreddits processed\n",
        "12000"
       ]
      },
      {
       "output_type": "stream",
       "stream": "stdout",
       "text": [
        "  subreddits processed\n",
        "13000"
       ]
      },
      {
       "output_type": "stream",
       "stream": "stdout",
       "text": [
        "  subreddits processed\n",
        "14000"
       ]
      },
      {
       "output_type": "stream",
       "stream": "stdout",
       "text": [
        "  subreddits processed\n",
        "15000"
       ]
      },
      {
       "output_type": "stream",
       "stream": "stdout",
       "text": [
        "  subreddits processed\n",
        "16000"
       ]
      },
      {
       "output_type": "stream",
       "stream": "stdout",
       "text": [
        "  subreddits processed\n",
        "17000"
       ]
      },
      {
       "output_type": "stream",
       "stream": "stdout",
       "text": [
        "  subreddits processed\n",
        "18000"
       ]
      },
      {
       "output_type": "stream",
       "stream": "stdout",
       "text": [
        "  subreddits processed\n"
       ]
      },
      {
       "metadata": {},
       "output_type": "pyout",
       "prompt_number": 42,
       "text": [
        "8640"
       ]
      }
     ],
     "prompt_number": 42
    }
   ],
   "metadata": {}
  }
 ]
}