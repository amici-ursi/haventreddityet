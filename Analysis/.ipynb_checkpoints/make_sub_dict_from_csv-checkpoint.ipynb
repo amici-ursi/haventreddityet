{
 "metadata": {
  "name": "",
  "signature": "sha256:c7875273db1b91bf4241cf5d650daddd6106f0453216ee7922d3c7ad586ebcf5"
 },
 "nbformat": 3,
 "nbformat_minor": 0,
 "worksheets": [
  {
   "cells": [
    {
     "cell_type": "heading",
     "level": 1,
     "metadata": {},
     "source": [
      "Make subreddit dictionary from csv file"
     ]
    },
    {
     "cell_type": "markdown",
     "metadata": {},
     "source": [
      "This file makes a dictionary of subreddits with a set of redditors in that subreddit. The dictionary is generated from the csv file data/com_redditors.csv"
     ]
    },
    {
     "cell_type": "code",
     "collapsed": false,
     "input": [
      "import pandas as pd\n",
      "import pickle"
     ],
     "language": "python",
     "metadata": {},
     "outputs": [],
     "prompt_number": 1
    },
    {
     "cell_type": "code",
     "collapsed": false,
     "input": [
      "df = pd.read_csv('../data/com_redditors.csv')\n",
      "print \"number of redditors: \", len(set(df.redditor))\n",
      "print \"number of subreddits: \", len(set(df.subreddit))"
     ],
     "language": "python",
     "metadata": {},
     "outputs": [
      {
       "output_type": "stream",
       "stream": "stdout",
       "text": [
        "number of redditors:  "
       ]
      },
      {
       "output_type": "stream",
       "stream": "stdout",
       "text": [
        "325960\n",
        "number of subreddits:  "
       ]
      },
      {
       "output_type": "stream",
       "stream": "stdout",
       "text": [
        "18573\n"
       ]
      }
     ],
     "prompt_number": 3
    },
    {
     "cell_type": "code",
     "collapsed": false,
     "input": [
      "def make_subreddit_dict(data):\n",
      "    subreddit_dict = dict()\n",
      "    subreddits = set(data.subreddit)\n",
      "    for subreddit in subreddits:\n",
      "        subreddit_dict[subreddit] = set(data[data.subreddit==subreddit].redditor)\n",
      "    return subreddit_dict"
     ],
     "language": "python",
     "metadata": {},
     "outputs": [],
     "prompt_number": 4
    },
    {
     "cell_type": "code",
     "collapsed": false,
     "input": [
      "sub_dict = make_subreddit_dict(df)"
     ],
     "language": "python",
     "metadata": {},
     "outputs": [],
     "prompt_number": 5
    },
    {
     "cell_type": "code",
     "collapsed": false,
     "input": [
      "pickle.dump(sub_dict, open('../data/sub_dict.pkl','w'))"
     ],
     "language": "python",
     "metadata": {},
     "outputs": [
      {
       "metadata": {},
       "output_type": "pyout",
       "prompt_number": 6,
       "text": [
        "18573"
       ]
      }
     ],
     "prompt_number": 6
    }
   ],
   "metadata": {}
  }
 ]
}