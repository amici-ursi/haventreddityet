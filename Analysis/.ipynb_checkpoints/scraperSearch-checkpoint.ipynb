{
 "metadata": {
  "name": "",
  "signature": "sha256:449855992c5e099a4389b726cd48025b4bf8dc468b8934a32f23330322fd8046"
 },
 "nbformat": 3,
 "nbformat_minor": 0,
 "worksheets": [
  {
   "cells": [
    {
     "cell_type": "heading",
     "level": 1,
     "metadata": {},
     "source": [
      "Reddit Scraper"
     ]
    },
    {
     "cell_type": "markdown",
     "metadata": {},
     "source": [
      "This scraper is designed for finding descriptions of subreddits from the reddit.com/subreddits pages. I made this scraper because this information does not seem to be available via their API.  "
     ]
    },
    {
     "cell_type": "heading",
     "level": 3,
     "metadata": {},
     "source": [
      "Scraping functions"
     ]
    },
    {
     "cell_type": "code",
     "collapsed": false,
     "input": [
      "import time, pickle, requests\n",
      "text = requests.get('http://www.reddit.com/subreddits/search?q=oldschoolcool').text"
     ],
     "language": "python",
     "metadata": {},
     "outputs": [],
     "prompt_number": 4
    },
    {
     "cell_type": "code",
     "collapsed": false,
     "input": [
      "print text"
     ],
     "language": "python",
     "metadata": {},
     "outputs": [
      {
       "output_type": "stream",
       "stream": "stdout",
       "text": [
        "<!doctype html><html xmlns=\"http://www.w3.org/1999/xhtml\" lang=\"en\" xml:lang=\"en\"><head><title>search results</title><meta name=\"keywords\" content=\" reddit, reddit.com, vote, comment, submit \" /><meta name=\"description\" content=\"reddit: the front page of the internet\" /><meta name=\"referrer\" content=\"origin\"><meta http-equiv=\"Content-Type\" content=\"text/html; charset=UTF-8\" /><meta name=\"viewport\" content=\"width=1024\"><link rel='icon' href=\"//www.redditstatic.com/icon.png\" sizes=\"256x256\" type=\"image/png\" /><link rel='shortcut icon' href=\"//www.redditstatic.com/favicon.ico\" type=\"image/x-icon\" /><link rel='apple-touch-icon-precomposed' href=\"//www.redditstatic.com/icon-touch.png\" /><link rel=\"alternate\" type=\"application/rss+xml\" title=\"RSS\" href=\"http://www.reddit.com/subreddits/search/.rss\" /><link rel=\"stylesheet\" type=\"text/css\" href=\"//www.redditstatic.com/reddit.eY2XZnI0QQ0.css\" media=\"all\"><link rel=\"stylesheet\" type=\"text/css\" href=\"//www.redditstatic.com/markdown.arGiOnaRyGY.css\" media=\"all\"><link rel=\"stylesheet\" href=\"//www.redditstatic.com/subreddit.css\" type=\"text/css\" ><!--[if gte IE 9]><!--><script type=\"text/javascript\" src=\"//www.redditstatic.com/reddit-init.en.KONHPR6kHxQ.js\"></script><!--<![endif]--><!--[if lt IE 9]><script type=\"text/javascript\" src=\"//www.redditstatic.com/reddit-init-legacy.en.7HNzIhWtZN0.js\"></script><![endif]--><script type=\"text/javascript\" id=\"config\">r.setup({\"ajax_domain\": \"www.reddit.com\", \"server_time\": 1423679010.0, \"post_site\": \"\", \"clicktracker_url\": \"//pixel.redditmedia.com/click\", \"logged\": false, \"stats_domain\": \"https://stats.redditmedia.com\", \"cur_domain\": \"reddit.com\", \"comment_embed_scripts\": [\"//www.redditstatic.com/comment-embed.js\"], \"https_forced\": false, \"user_id\": false, \"eventtracker_url\": \"//pixel.redditmedia.com/pixel/of_delight.png\", \"is_fake\": true, \"renderstyle\": \"html\", \"over_18\": false, \"vote_hash\": \"\", \"adtracker_url\": \"//pixel.redditmedia.com/pixel/of_doom.png\", \"uitracker_url\": \"//pixel.redditmedia.com/pixel/of_discovery.png\", \"modhash\": false, \"store_visits\": false, \"anon_eventtracker_url\": \"//pixel.redditmedia.com/pixel/of_diversity.png\", \"new_window\": false, \"send_logs\": true, \"gold\": false, \"pageInfo\": {\"actionName\": \"front.GET_search_reddits\", \"verification\": \"d3434aed6bbdf303b28f76d1978e45a719454aa8\"}, \"https_endpoint\": \"https://www.reddit.com\", \"static_root\": \"//www.redditstatic.com\", \"extension\": null, \"status_msg\": {\"fetching\": \"fetching title...\", \"loading\": \"loading...\", \"submitting\": \"submitting...\"}, \"stats_sample_rate\": \"1\", \"debug\": false, \"has_subscribed\": false})</script><script type=\"text/javascript\">reddit.cur_site = \"\";</script><style type=\"text/css\">/* Custom css: use this block to insert special translation-dependent css in the page header */</style><script type=\"text/javascript\">(function() { var url = '//pixel.redditmedia.com/pixel/of_destiny.png?v=rL42cs25kIJUNoBku2zaK4s9ezON7b1e1aBa%2F%2FVWrBppqhc2342lZonhiUfOX5H1Nl3%2FnexGAIM%3D'; var cachebuster = Math.round(Math.random() * 2147483647); var cachebusted_url = url + \"&r=\" + cachebuster; var img = new Image(); img.src = cachebusted_url; })();</script><script type=\"text/javascript\">var user_type = 'guest'; var _gaq = _gaq || []; _gaq.push( ['_require', 'inpage_linkid', '//www.google-analytics.com/plugins/ga/inpage_linkid.js'], ['_setAccount', 'UA-12131688-1'], ['_setDomainName', 'reddit.com'], ['_setCustomVar', 1, 'site', '', 3], ['_setCustomVar', 2, 'srpath', '-GET_search_reddits', 3], ['_setCustomVar', 3, 'usertype', user_type, 2], ['_setCustomVar', 4, 'uitype', 'web', 3], ['_setSampleRate', '50'], ['_trackPageview'] ); (function() { var ga = document.createElement('script'); ga.type = 'text/javascript'; ga.async = true; ga.src = ('https:' == document.location.protocol ? 'https://ssl' : 'http://www') + '.google-analytics.com/ga.js'; var s = document.getElementsByTagName('script')[0]; s.parentNode.insertBefore(ga, s); })();</script></head><body class=\"\" ><div id=\"header\" role=\"banner\"><a tabindex=\"1\" href=\"#content\" id=\"jumpToContent\">jump to content</a><div id=\"sr-header-area\"><div class=\"width-clip\"><div class=\"dropdown srdrop\" onclick=\"open_menu(this)\" onmouseover=\"hover_open_menu(this)\"><span class=\"selected title\">my subreddits</span></div><div class=\"drop-choices srdrop\"><a href=\"http://www.reddit.com/r/announcements/\" class=\"choice\" >announcements</a><a href=\"http://www.reddit.com/r/Art/\" class=\"choice\" >Art</a><a href=\"http://www.reddit.com/r/AskReddit/\" class=\"choice\" >AskReddit</a><a href=\"http://www.reddit.com/r/askscience/\" class=\"choice\" >askscience</a><a href=\"http://www.reddit.com/r/aww/\" class=\"choice\" >aww</a><a href=\"http://www.reddit.com/r/blog/\" class=\"choice\" >blog</a><a href=\"http://www.reddit.com/r/books/\" class=\"choice\" >books</a><a href=\"http://www.reddit.com/r/creepy/\" class=\"choice\" >creepy</a><a href=\"http://www.reddit.com/r/dataisbeautiful/\" class=\"choice\" >dataisbeautiful</a><a href=\"http://www.reddit.com/r/DIY/\" class=\"choice\" >DIY</a><a href=\"http://www.reddit.com/r/Documentaries/\" class=\"choice\" >Documentaries</a><a href=\"http://www.reddit.com/r/EarthPorn/\" class=\"choice\" >EarthPorn</a><a href=\"http://www.reddit.com/r/explainlikeimfive/\" class=\"choice\" >explainlikeimfive</a><a href=\"http://www.reddit.com/r/Fitness/\" class=\"choice\" >Fitness</a><a href=\"http://www.reddit.com/r/food/\" class=\"choice\" >food</a><a href=\"http://www.reddit.com/r/funny/\" class=\"choice\" >funny</a><a href=\"http://www.reddit.com/r/Futurology/\" class=\"choice\" >Futurology</a><a href=\"http://www.reddit.com/r/gadgets/\" class=\"choice\" >gadgets</a><a href=\"http://www.reddit.com/r/gaming/\" class=\"choice\" >gaming</a><a href=\"http://www.reddit.com/r/GetMotivated/\" class=\"choice\" >GetMotivated</a><a href=\"http://www.reddit.com/r/gifs/\" class=\"choice\" >gifs</a><a href=\"http://www.reddit.com/r/history/\" class=\"choice\" >history</a><a href=\"http://www.reddit.com/r/IAmA/\" class=\"choice\" >IAmA</a><a href=\"http://www.reddit.com/r/InternetIsBeautiful/\" class=\"choice\" >InternetIsBeautiful</a><a href=\"http://www.reddit.com/r/Jokes/\" class=\"choice\" >Jokes</a><a href=\"http://www.reddit.com/r/LifeProTips/\" class=\"choice\" >LifeProTips</a><a href=\"http://www.reddit.com/r/listentothis/\" class=\"choice\" >listentothis</a><a href=\"http://www.reddit.com/r/mildlyinteresting/\" class=\"choice\" >mildlyinteresting</a><a href=\"http://www.reddit.com/r/movies/\" class=\"choice\" >movies</a><a href=\"http://www.reddit.com/r/Music/\" class=\"choice\" >Music</a><a href=\"http://www.reddit.com/r/news/\" class=\"choice\" >news</a><a href=\"http://www.reddit.com/r/nosleep/\" class=\"choice\" >nosleep</a><a href=\"http://www.reddit.com/r/nottheonion/\" class=\"choice\" >nottheonion</a><a href=\"http://www.reddit.com/r/OldSchoolCool/\" class=\"choice\" >OldSchoolCool</a><a href=\"http://www.reddit.com/r/personalfinance/\" class=\"choice\" >personalfinance</a><a href=\"http://www.reddit.com/r/philosophy/\" class=\"choice\" >philosophy</a><a href=\"http://www.reddit.com/r/photoshopbattles/\" class=\"choice\" >photoshopbattles</a><a href=\"http://www.reddit.com/r/pics/\" class=\"choice\" >pics</a><a href=\"http://www.reddit.com/r/science/\" class=\"choice\" >science</a><a href=\"http://www.reddit.com/r/Showerthoughts/\" class=\"choice\" >Showerthoughts</a><a href=\"http://www.reddit.com/r/space/\" class=\"choice\" >space</a><a href=\"http://www.reddit.com/r/sports/\" class=\"choice\" >sports</a><a href=\"http://www.reddit.com/r/television/\" class=\"choice\" >television</a><a href=\"http://www.reddit.com/r/tifu/\" class=\"choice\" >tifu</a><a href=\"http://www.reddit.com/r/todayilearned/\" class=\"choice\" >todayilearned</a><a href=\"http://www.reddit.com/r/TwoXChromosomes/\" class=\"choice\" >TwoXChromosomes</a><a href=\"http://www.reddit.com/r/UpliftingNews/\" class=\"choice\" >UpliftingNews</a><a href=\"http://www.reddit.com/r/videos/\" class=\"choice\" >videos</a><a href=\"http://www.reddit.com/r/worldnews/\" class=\"choice\" >worldnews</a><a href=\"http://www.reddit.com/r/WritingPrompts/\" class=\"choice\" >WritingPrompts</a><a href=\"http://www.reddit.com/subreddits/\" class=\"bottom-option choice\" >edit subscriptions</a></div><div class=\"sr-list\"><ul class=\"flat-list sr-bar hover\" ><li ><a href=\"http://www.reddit.com/\" class=\"choice\" >front</a></li><li ><span class=\"separator\">-</span><a href=\"http://www.reddit.com/r/all\" class=\"choice\" >all</a></li><li ><span class=\"separator\">-</span><a href=\"http://www.reddit.com/r/random/\" class=\"random choice\" >random</a></li></ul><span class=\"separator\">&nbsp;|&nbsp;</span><ul class=\"flat-list sr-bar hover\" id='sr-bar'><li ><a href=\"http://www.reddit.com/r/creepy/\" class=\"choice\" >creepy</a></li><li ><span class=\"separator\">-</span><a href=\"http://www.reddit.com/r/Jokes/\" class=\"choice\" >Jokes</a></li><li ><span class=\"separator\">-</span><a href=\"http://www.reddit.com/r/gaming/\" class=\"choice\" >gaming</a></li><li ><span class=\"separator\">-</span><a href=\"http://www.reddit.com/r/WritingPrompts/\" class=\"choice\" >WritingPrompts</a></li><li ><span class=\"separator\">-</span><a href=\"http://www.reddit.com/r/science/\" class=\"choice\" >science</a></li><li ><span class=\"separator\">-</span><a href=\"http://www.reddit.com/r/books/\" class=\"choice\" >books</a></li><li ><span class=\"separator\">-</span><a href=\"http://www.reddit.com/r/Fitness/\" class=\"choice\" >Fitness</a></li><li ><span class=\"separator\">-</span><a href=\"http://www.reddit.com/r/GetMotivated/\" class=\"choice\" >GetMotivated</a></li><li ><span class=\"separator\">-</span><a href=\"http://www.reddit.com/r/news/\" class=\"choice\" >news</a></li><li ><span class=\"separator\">-</span><a href=\"http://www.reddit.com/r/history/\" class=\"choice\" >history</a></li><li ><span class=\"separator\">-</span><a href=\"http://www.reddit.com/r/photoshopbattles/\" class=\"choice\" >photoshopbattles</a></li><li ><span class=\"separator\">-</span><a href=\"http://www.reddit.com/r/OldSchoolCool/\" class=\"choice\" >OldSchoolCool</a></li><li ><span class=\"separator\">-</span><a href=\"http://www.reddit.com/r/movies/\" class=\"choice\" >movies</a></li><li ><span class=\"separator\">-</span><a href=\"http://www.reddit.com/r/funny/\" class=\"choice\" >funny</a></li><li ><span class=\"separator\">-</span><a href=\"http://www.reddit.com/r/Documentaries/\" class=\"choice\" >Documentaries</a></li><li ><span class=\"separator\">-</span><a href=\"http://www.reddit.com/r/nottheonion/\" class=\"choice\" >nottheonion</a></li><li ><span class=\"separator\">-</span><a href=\"http://www.reddit.com/r/Showerthoughts/\" class=\"choice\" >Showerthoughts</a></li><li ><span class=\"separator\">-</span><a href=\"http://www.reddit.com/r/pics/\" class=\"choice\" >pics</a></li><li ><span class=\"separator\">-</span><a href=\"http://www.reddit.com/r/TwoXChromosomes/\" class=\"choice\" >TwoXChromosomes</a></li><li ><span class=\"separator\">-</span><a href=\"http://www.reddit.com/r/EarthPorn/\" class=\"choice\" >EarthPorn</a></li><li ><span class=\"separator\">-</span><a href=\"http://www.reddit.com/r/philosophy/\" class=\"choice\" >philosophy</a></li><li ><span class=\"separator\">-</span><a href=\"http://www.reddit.com/r/todayilearned/\" class=\"choice\" >todayilearned</a></li><li ><span class=\"separator\">-</span><a href=\"http://www.reddit.com/r/IAmA/\" class=\"choice\" >IAmA</a></li><li ><span class=\"separator\">-</span><a href=\"http://www.reddit.com/r/space/\" class=\"choice\" >space</a></li><li ><span class=\"separator\">-</span><a href=\"http://www.reddit.com/r/dataisbeautiful/\" class=\"choice\" >dataisbeautiful</a></li><li ><span class=\"separator\">-</span><a href=\"http://www.reddit.com/r/worldnews/\" class=\"choice\" >worldnews</a></li><li ><span class=\"separator\">-</span><a href=\"http://www.reddit.com/r/Art/\" class=\"choice\" >Art</a></li><li ><span class=\"separator\">-</span><a href=\"http://www.reddit.com/r/food/\" class=\"choice\" >food</a></li><li ><span class=\"separator\">-</span><a href=\"http://www.reddit.com/r/gifs/\" class=\"choice\" >gifs</a></li><li ><span class=\"separator\">-</span><a href=\"http://www.reddit.com/r/InternetIsBeautiful/\" class=\"choice\" >InternetIsBeautiful</a></li><li ><span class=\"separator\">-</span><a href=\"http://www.reddit.com/r/gadgets/\" class=\"choice\" >gadgets</a></li><li ><span class=\"separator\">-</span><a href=\"http://www.reddit.com/r/videos/\" class=\"choice\" >videos</a></li><li ><span class=\"separator\">-</span><a href=\"http://www.reddit.com/r/tifu/\" class=\"choice\" >tifu</a></li><li ><span class=\"separator\">-</span><a href=\"http://www.reddit.com/r/personalfinance/\" class=\"choice\" >personalfinance</a></li><li ><span class=\"separator\">-</span><a href=\"http://www.reddit.com/r/Futurology/\" class=\"choice\" >Futurology</a></li><li ><span class=\"separator\">-</span><a href=\"http://www.reddit.com/r/UpliftingNews/\" class=\"choice\" >UpliftingNews</a></li><li ><span class=\"separator\">-</span><a href=\"http://www.reddit.com/r/nosleep/\" class=\"choice\" >nosleep</a></li><li ><span class=\"separator\">-</span><a href=\"http://www.reddit.com/r/LifeProTips/\" class=\"choice\" >LifeProTips</a></li><li ><span class=\"separator\">-</span><a href=\"http://www.reddit.com/r/Music/\" class=\"choice\" >Music</a></li><li ><span class=\"separator\">-</span><a href=\"http://www.reddit.com/r/explainlikeimfive/\" class=\"choice\" >explainlikeimfive</a></li><li ><span class=\"separator\">-</span><a href=\"http://www.reddit.com/r/DIY/\" class=\"choice\" >DIY</a></li><li ><span class=\"separator\">-</span><a href=\"http://www.reddit.com/r/mildlyinteresting/\" class=\"choice\" >mildlyinteresting</a></li><li ><span class=\"separator\">-</span><a href=\"http://www.reddit.com/r/sports/\" class=\"choice\" >sports</a></li><li ><span class=\"separator\">-</span><a href=\"http://www.reddit.com/r/askscience/\" class=\"choice\" >askscience</a></li><li ><span class=\"separator\">-</span><a href=\"http://www.reddit.com/r/television/\" class=\"choice\" >television</a></li><li ><span class=\"separator\">-</span><a href=\"http://www.reddit.com/r/AskReddit/\" class=\"choice\" >AskReddit</a></li><li ><span class=\"separator\">-</span><a href=\"http://www.reddit.com/r/listentothis/\" class=\"choice\" >listentothis</a></li><li ><span class=\"separator\">-</span><a href=\"http://www.reddit.com/r/aww/\" class=\"choice\" >aww</a></li></ul></div><a href=\"http://www.reddit.com/subreddits/\" id=\"sr-more-link\" >more &raquo;</a></div></div><div id=\"header-bottom-left\"><a href=\"/\" id=\"header-img\" class=\"default-header\" title=\"\">reddit.com</a>&nbsp;<span class=\"hover pagename redditname\"><a href=\"http://www.reddit.com/subreddits/\" >subreddits</a></span><ul class=\"tabmenu \" ><li class='selected'><a href=\"http://www.reddit.com/subreddits/\" class=\"choice\" >popular</a></li><li ><a href=\"http://www.reddit.com/subreddits/new/\" class=\"choice\" >new</a></li></ul></div><div id=\"header-bottom-right\"><span class=\"user\">want to join?&#32;<a href=\"https://www.reddit.com/login\" class=\"login-required\" >sign in or create an account</a>&#32;in seconds</span><span class=\"separator\">|</span><ul class=\"flat-list hover\" ><li ><a href=\"javascript:void(0)\" class=\"pref-lang choice\" onclick=\"return showlang();\" >English</a></li></ul></div></div><div class=\"side\"><div class='spacer'><form method=\"post\" action=\"https://www.reddit.com/subreddits/post/login\" id=\"login_login-main\" class=\"login-form login-form-side\"><input type=\"hidden\" name=\"op\" value=\"login-main\" /><input name=\"user\" placeholder=\"username\" type=\"text\" maxlength=\"20\" tabindex=\"1\"/><input name=\"passwd\" placeholder=\"password\" type=\"password\" tabindex=\"1\"/><div class=\"status\"></div><div id=\"remember-me\"><input type=\"checkbox\" name=\"rem\" id=\"rem-login-main\" tabindex=\"1\" /><label for=\"rem-login-main\">remember me</label><a class=\"recover-password\" href=\"/password\">reset password</a></div><div class=\"submit\"><span class=\"throbber\"></span><button class=\"btn\" type=\"submit\" tabindex=\"1\">login</button></div><div class=\"clear\"></div></form></div><div class='spacer'><div class=\"sponsorshipbox\"></div></div><div class='spacer'><iframe id=\"ad_main\" frameborder=\"0\" scrolling=\"no\" name=\"ad_main\" src=\"http://static.adzerk.net/reddit/ads.html?sr=,loggedout&amp;bust2#http://www.reddit.com\"></iframe><script type=\"text/javascript\">$(function() { var ad = $(\"#ad_main\"); if(!ad.length || ad.height() == 0 || ad.width() == 0 || ad.offset().left == 0) { $(\".footer\").append(\"<img alt='' src='//pixel.redditmedia.com/pixel/of_defenestration.png?hash=adblock0e31bc319d5b5882b0cddf147f4ce1da5ac9c731&id=adblock&random=\" + Math.random()*10000000000000000 + \"'/>\"); $(window).trigger('adBlockEnabled', true) } else { $(window).trigger('adBlockEnabled', false) } });</script></div><div class='spacer'><div class=\"goldvertisement\"><div class=\"inner\"><h2 >daily reddit gold goal</h2><div class=\"progress\"><p>50%</p><div class=\"bar\"><span style=\"width: 50%\"></span></div></div><a href=\"/gold?goldtype=code&amp;source=progressbar\" target=\"_blank\">help support reddit</a><div class=\"gold-bubble hover-bubble help-bubble anchor-top-centered\"><p><span class=\"gold-branding\">reddit gold</span>&#32;gives you extra features and helps keep our servers running. We believe the more reddit can be user-supported, the freer we will be to make reddit the best it can be.</p><p class=\"buy-gold\">Buy gold for yourself to gain access to&#32;<a href=\"/gold/about\" target=\"_blank\">extra features</a>&#32;and&#32;<a href=\"/r/goldbenefits\" target=\"_blank\">special benefits</a>. A month of gold pays for &#32;<b>231.26 minutes</b>&#32;of reddit server time!</p><p class=\"give-gold\">Give gold to thank exemplary people and encourage them to post more.</p><p class=\"aside\">This daily goal updates every 10 minutes and is reset at midnight&#32;<a target=\"_blank\" href=\"http://en.wikipedia.org/wiki/Pacific_Time_Zone\">Pacific Time</a>&#32; (13 hours, 36 minutes from now).</p><div class=\"history\"><p >Yesterday's reddit gold goal</p><div class=\"progress\"><p>94%</p><div class=\"bar\"><span style=\"width: 94%\"></span></div></div></div></div></div></div></div><div class='spacer'><div class=\"sidecontentbox \" ><div class=\"title\"><h1>YOUR FRONT PAGE SUBREDDITS (50)</h1></div><ul class=\"content\"><li><div class=\"subscription-box\"><div class=\"clear\"><ul><a href=\"http://www.reddit.com/r/announcements+Art+AskReddit+askscience+aww+blog+books+creepy+dataisbeautiful+DIY+Documentaries+EarthPorn+explainlikeimfive+Fitness+food+funny+Futurology+gadgets+gaming+GetMotivated+gifs+history+IAmA+InternetIsBeautiful+Jokes+LifeProTips+listentothis+mildlyinteresting+movies+Music+news+nosleep+nottheonion+OldSchoolCool+personalfinance+philosophy+photoshopbattles+pics+science+Showerthoughts+space+sports+television+tifu+todayilearned+TwoXChromosomes+UpliftingNews+videos+worldnews+WritingPrompts\" class=\"title\" >multireddit of your subscriptions</a><div class=\"box-separator\"></div><li><span class=\"subscribe-button fancy-toggle-button toggle\" style=\"\" data-sr_name=\"announcements\" ><a class=\"option active remove login-required\" href=\"#\" tabindex=\"100\" >unsubscribe</a><a class=\"option add\" href=\"#\">subscribe</a></span><a href=\"http://www.reddit.com/r/announcements/\" class=\"title\" >announcements</a><img class=\"sr-type-img\" alt=\"not approved\" title=\"not approved\" src=\"//www.redditstatic.com/pencil-gray.png\" /></li><li><span class=\"subscribe-button fancy-toggle-button toggle\" style=\"\" data-sr_name=\"Art\" ><a class=\"option active remove login-required\" href=\"#\" tabindex=\"100\" >unsubscribe</a><a class=\"option add\" href=\"#\">subscribe</a></span><a href=\"http://www.reddit.com/r/Art/\" class=\"title\" >Art</a></li><li><span class=\"subscribe-button fancy-toggle-button toggle\" style=\"\" data-sr_name=\"AskReddit\" ><a class=\"option active remove login-required\" href=\"#\" tabindex=\"100\" >unsubscribe</a><a class=\"option add\" href=\"#\">subscribe</a></span><a href=\"http://www.reddit.com/r/AskReddit/\" class=\"title\" >AskReddit</a></li><li><span class=\"subscribe-button fancy-toggle-button toggle\" style=\"\" data-sr_name=\"askscience\" ><a class=\"option active remove login-required\" href=\"#\" tabindex=\"100\" >unsubscribe</a><a class=\"option add\" href=\"#\">subscribe</a></span><a href=\"http://www.reddit.com/r/askscience/\" class=\"title\" >askscience</a></li><li><span class=\"subscribe-button fancy-toggle-button toggle\" style=\"\" data-sr_name=\"aww\" ><a class=\"option active remove login-required\" href=\"#\" tabindex=\"100\" >unsubscribe</a><a class=\"option add\" href=\"#\">subscribe</a></span><a href=\"http://www.reddit.com/r/aww/\" class=\"title\" >aww</a></li><li><span class=\"subscribe-button fancy-toggle-button toggle\" style=\"\" data-sr_name=\"blog\" ><a class=\"option active remove login-required\" href=\"#\" tabindex=\"100\" >unsubscribe</a><a class=\"option add\" href=\"#\">subscribe</a></span><a href=\"http://www.reddit.com/r/blog/\" class=\"title\" >blog</a><img class=\"sr-type-img\" alt=\"not approved\" title=\"not approved\" src=\"//www.redditstatic.com/pencil-gray.png\" /></li><li><span class=\"subscribe-button fancy-toggle-button toggle\" style=\"\" data-sr_name=\"books\" ><a class=\"option active remove login-required\" href=\"#\" tabindex=\"100\" >unsubscribe</a><a class=\"option add\" href=\"#\">subscribe</a></span><a href=\"http://www.reddit.com/r/books/\" class=\"title\" >books</a></li><li><span class=\"subscribe-button fancy-toggle-button toggle\" style=\"\" data-sr_name=\"creepy\" ><a class=\"option active remove login-required\" href=\"#\" tabindex=\"100\" >unsubscribe</a><a class=\"option add\" href=\"#\">subscribe</a></span><a href=\"http://www.reddit.com/r/creepy/\" class=\"title\" >creepy</a></li><li><span class=\"subscribe-button fancy-toggle-button toggle\" style=\"\" data-sr_name=\"dataisbeautiful\" ><a class=\"option active remove login-required\" href=\"#\" tabindex=\"100\" >unsubscribe</a><a class=\"option add\" href=\"#\">subscribe</a></span><a href=\"http://www.reddit.com/r/dataisbeautiful/\" class=\"title\" >dataisbeautiful</a></li><li><span class=\"subscribe-button fancy-toggle-button toggle\" style=\"\" data-sr_name=\"DIY\" ><a class=\"option active remove login-required\" href=\"#\" tabindex=\"100\" >unsubscribe</a><a class=\"option add\" href=\"#\">subscribe</a></span><a href=\"http://www.reddit.com/r/DIY/\" class=\"title\" >DIY</a></li><li><span class=\"subscribe-button fancy-toggle-button toggle\" style=\"\" data-sr_name=\"Documentaries\" ><a class=\"option active remove login-required\" href=\"#\" tabindex=\"100\" >unsubscribe</a><a class=\"option add\" href=\"#\">subscribe</a></span><a href=\"http://www.reddit.com/r/Documentaries/\" class=\"title\" >Documentaries</a></li><li><span class=\"subscribe-button fancy-toggle-button toggle\" style=\"\" data-sr_name=\"EarthPorn\" ><a class=\"option active remove login-required\" href=\"#\" tabindex=\"100\" >unsubscribe</a><a class=\"option add\" href=\"#\">subscribe</a></span><a href=\"http://www.reddit.com/r/EarthPorn/\" class=\"title\" >EarthPorn</a></li><li><span class=\"subscribe-button fancy-toggle-button toggle\" style=\"\" data-sr_name=\"explainlikeimfive\" ><a class=\"option active remove login-required\" href=\"#\" tabindex=\"100\" >unsubscribe</a><a class=\"option add\" href=\"#\">subscribe</a></span><a href=\"http://www.reddit.com/r/explainlikeimfive/\" class=\"title\" >explainlikeimfive</a></li><li><span class=\"subscribe-button fancy-toggle-button toggle\" style=\"\" data-sr_name=\"Fitness\" ><a class=\"option active remove login-required\" href=\"#\" tabindex=\"100\" >unsubscribe</a><a class=\"option add\" href=\"#\">subscribe</a></span><a href=\"http://www.reddit.com/r/Fitness/\" class=\"title\" >Fitness</a></li><li><span class=\"subscribe-button fancy-toggle-button toggle\" style=\"\" data-sr_name=\"food\" ><a class=\"option active remove login-required\" href=\"#\" tabindex=\"100\" >unsubscribe</a><a class=\"option add\" href=\"#\">subscribe</a></span><a href=\"http://www.reddit.com/r/food/\" class=\"title\" >food</a></li><li><span class=\"subscribe-button fancy-toggle-button toggle\" style=\"\" data-sr_name=\"funny\" ><a class=\"option active remove login-required\" href=\"#\" tabindex=\"100\" >unsubscribe</a><a class=\"option add\" href=\"#\">subscribe</a></span><a href=\"http://www.reddit.com/r/funny/\" class=\"title\" >funny</a></li><li><span class=\"subscribe-button fancy-toggle-button toggle\" style=\"\" data-sr_name=\"Futurology\" ><a class=\"option active remove login-required\" href=\"#\" tabindex=\"100\" >unsubscribe</a><a class=\"option add\" href=\"#\">subscribe</a></span><a href=\"http://www.reddit.com/r/Futurology/\" class=\"title\" >Futurology</a></li><li><span class=\"subscribe-button fancy-toggle-button toggle\" style=\"\" data-sr_name=\"gadgets\" ><a class=\"option active remove login-required\" href=\"#\" tabindex=\"100\" >unsubscribe</a><a class=\"option add\" href=\"#\">subscribe</a></span><a href=\"http://www.reddit.com/r/gadgets/\" class=\"title\" >gadgets</a></li><li><span class=\"subscribe-button fancy-toggle-button toggle\" style=\"\" data-sr_name=\"gaming\" ><a class=\"option active remove login-required\" href=\"#\" tabindex=\"100\" >unsubscribe</a><a class=\"option add\" href=\"#\">subscribe</a></span><a href=\"http://www.reddit.com/r/gaming/\" class=\"title\" >gaming</a></li><li><span class=\"subscribe-button fancy-toggle-button toggle\" style=\"\" data-sr_name=\"GetMotivated\" ><a class=\"option active remove login-required\" href=\"#\" tabindex=\"100\" >unsubscribe</a><a class=\"option add\" href=\"#\">subscribe</a></span><a href=\"http://www.reddit.com/r/GetMotivated/\" class=\"title\" >GetMotivated</a></li><li><span class=\"subscribe-button fancy-toggle-button toggle\" style=\"\" data-sr_name=\"gifs\" ><a class=\"option active remove login-required\" href=\"#\" tabindex=\"100\" >unsubscribe</a><a class=\"option add\" href=\"#\">subscribe</a></span><a href=\"http://www.reddit.com/r/gifs/\" class=\"title\" >gifs</a></li><li><span class=\"subscribe-button fancy-toggle-button toggle\" style=\"\" data-sr_name=\"history\" ><a class=\"option active remove login-required\" href=\"#\" tabindex=\"100\" >unsubscribe</a><a class=\"option add\" href=\"#\">subscribe</a></span><a href=\"http://www.reddit.com/r/history/\" class=\"title\" >history</a></li><li><span class=\"subscribe-button fancy-toggle-button toggle\" style=\"\" data-sr_name=\"IAmA\" ><a class=\"option active remove login-required\" href=\"#\" tabindex=\"100\" >unsubscribe</a><a class=\"option add\" href=\"#\">subscribe</a></span><a href=\"http://www.reddit.com/r/IAmA/\" class=\"title\" >IAmA</a></li><li><span class=\"subscribe-button fancy-toggle-button toggle\" style=\"\" data-sr_name=\"InternetIsBeautiful\" ><a class=\"option active remove login-required\" href=\"#\" tabindex=\"100\" >unsubscribe</a><a class=\"option add\" href=\"#\">subscribe</a></span><a href=\"http://www.reddit.com/r/InternetIsBeautiful/\" class=\"title\" >InternetIsBeautiful</a></li><li><span class=\"subscribe-button fancy-toggle-button toggle\" style=\"\" data-sr_name=\"Jokes\" ><a class=\"option active remove login-required\" href=\"#\" tabindex=\"100\" >unsubscribe</a><a class=\"option add\" href=\"#\">subscribe</a></span><a href=\"http://www.reddit.com/r/Jokes/\" class=\"title\" >Jokes</a></li><li><span class=\"subscribe-button fancy-toggle-button toggle\" style=\"\" data-sr_name=\"LifeProTips\" ><a class=\"option active remove login-required\" href=\"#\" tabindex=\"100\" >unsubscribe</a><a class=\"option add\" href=\"#\">subscribe</a></span><a href=\"http://www.reddit.com/r/LifeProTips/\" class=\"title\" >LifeProTips</a></li><li><span class=\"subscribe-button fancy-toggle-button toggle\" style=\"\" data-sr_name=\"listentothis\" ><a class=\"option active remove login-required\" href=\"#\" tabindex=\"100\" >unsubscribe</a><a class=\"option add\" href=\"#\">subscribe</a></span><a href=\"http://www.reddit.com/r/listentothis/\" class=\"title\" >listentothis</a></li><li><span class=\"subscribe-button fancy-toggle-button toggle\" style=\"\" data-sr_name=\"mildlyinteresting\" ><a class=\"option active remove login-required\" href=\"#\" tabindex=\"100\" >unsubscribe</a><a class=\"option add\" href=\"#\">subscribe</a></span><a href=\"http://www.reddit.com/r/mildlyinteresting/\" class=\"title\" >mildlyinteresting</a></li><li><span class=\"subscribe-button fancy-toggle-button toggle\" style=\"\" data-sr_name=\"movies\" ><a class=\"option active remove login-required\" href=\"#\" tabindex=\"100\" >unsubscribe</a><a class=\"option add\" href=\"#\">subscribe</a></span><a href=\"http://www.reddit.com/r/movies/\" class=\"title\" >movies</a></li><li><span class=\"subscribe-button fancy-toggle-button toggle\" style=\"\" data-sr_name=\"Music\" ><a class=\"option active remove login-required\" href=\"#\" tabindex=\"100\" >unsubscribe</a><a class=\"option add\" href=\"#\">subscribe</a></span><a href=\"http://www.reddit.com/r/Music/\" class=\"title\" >Music</a></li><li><span class=\"subscribe-button fancy-toggle-button toggle\" style=\"\" data-sr_name=\"news\" ><a class=\"option active remove login-required\" href=\"#\" tabindex=\"100\" >unsubscribe</a><a class=\"option add\" href=\"#\">subscribe</a></span><a href=\"http://www.reddit.com/r/news/\" class=\"title\" >news</a></li><li><span class=\"subscribe-button fancy-toggle-button toggle\" style=\"\" data-sr_name=\"nosleep\" ><a class=\"option active remove login-required\" href=\"#\" tabindex=\"100\" >unsubscribe</a><a class=\"option add\" href=\"#\">subscribe</a></span><a href=\"http://www.reddit.com/r/nosleep/\" class=\"title\" >nosleep</a></li><li><span class=\"subscribe-button fancy-toggle-button toggle\" style=\"\" data-sr_name=\"nottheonion\" ><a class=\"option active remove login-required\" href=\"#\" tabindex=\"100\" >unsubscribe</a><a class=\"option add\" href=\"#\">subscribe</a></span><a href=\"http://www.reddit.com/r/nottheonion/\" class=\"title\" >nottheonion</a></li><li><span class=\"subscribe-button fancy-toggle-button toggle\" style=\"\" data-sr_name=\"OldSchoolCool\" ><a class=\"option active remove login-required\" href=\"#\" tabindex=\"100\" >unsubscribe</a><a class=\"option add\" href=\"#\">subscribe</a></span><a href=\"http://www.reddit.com/r/OldSchoolCool/\" class=\"title\" >OldSchoolCool</a></li><li><span class=\"subscribe-button fancy-toggle-button toggle\" style=\"\" data-sr_name=\"personalfinance\" ><a class=\"option active remove login-required\" href=\"#\" tabindex=\"100\" >unsubscribe</a><a class=\"option add\" href=\"#\">subscribe</a></span><a href=\"http://www.reddit.com/r/personalfinance/\" class=\"title\" >personalfinance</a></li><li><span class=\"subscribe-button fancy-toggle-button toggle\" style=\"\" data-sr_name=\"philosophy\" ><a class=\"option active remove login-required\" href=\"#\" tabindex=\"100\" >unsubscribe</a><a class=\"option add\" href=\"#\">subscribe</a></span><a href=\"http://www.reddit.com/r/philosophy/\" class=\"title\" >philosophy</a></li><li><span class=\"subscribe-button fancy-toggle-button toggle\" style=\"\" data-sr_name=\"photoshopbattles\" ><a class=\"option active remove login-required\" href=\"#\" tabindex=\"100\" >unsubscribe</a><a class=\"option add\" href=\"#\">subscribe</a></span><a href=\"http://www.reddit.com/r/photoshopbattles/\" class=\"title\" >photoshopbattles</a></li><li><span class=\"subscribe-button fancy-toggle-button toggle\" style=\"\" data-sr_name=\"pics\" ><a class=\"option active remove login-required\" href=\"#\" tabindex=\"100\" >unsubscribe</a><a class=\"option add\" href=\"#\">subscribe</a></span><a href=\"http://www.reddit.com/r/pics/\" class=\"title\" >pics</a></li><li><span class=\"subscribe-button fancy-toggle-button toggle\" style=\"\" data-sr_name=\"science\" ><a class=\"option active remove login-required\" href=\"#\" tabindex=\"100\" >unsubscribe</a><a class=\"option add\" href=\"#\">subscribe</a></span><a href=\"http://www.reddit.com/r/science/\" class=\"title\" >science</a></li><li><span class=\"subscribe-button fancy-toggle-button toggle\" style=\"\" data-sr_name=\"Showerthoughts\" ><a class=\"option active remove login-required\" href=\"#\" tabindex=\"100\" >unsubscribe</a><a class=\"option add\" href=\"#\">subscribe</a></span><a href=\"http://www.reddit.com/r/Showerthoughts/\" class=\"title\" >Showerthoughts</a></li><li><span class=\"subscribe-button fancy-toggle-button toggle\" style=\"\" data-sr_name=\"space\" ><a class=\"option active remove login-required\" href=\"#\" tabindex=\"100\" >unsubscribe</a><a class=\"option add\" href=\"#\">subscribe</a></span><a href=\"http://www.reddit.com/r/space/\" class=\"title\" >space</a></li><li><span class=\"subscribe-button fancy-toggle-button toggle\" style=\"\" data-sr_name=\"sports\" ><a class=\"option active remove login-required\" href=\"#\" tabindex=\"100\" >unsubscribe</a><a class=\"option add\" href=\"#\">subscribe</a></span><a href=\"http://www.reddit.com/r/sports/\" class=\"title\" >sports</a></li><li><span class=\"subscribe-button fancy-toggle-button toggle\" style=\"\" data-sr_name=\"television\" ><a class=\"option active remove login-required\" href=\"#\" tabindex=\"100\" >unsubscribe</a><a class=\"option add\" href=\"#\">subscribe</a></span><a href=\"http://www.reddit.com/r/television/\" class=\"title\" >television</a></li><li><span class=\"subscribe-button fancy-toggle-button toggle\" style=\"\" data-sr_name=\"tifu\" ><a class=\"option active remove login-required\" href=\"#\" tabindex=\"100\" >unsubscribe</a><a class=\"option add\" href=\"#\">subscribe</a></span><a href=\"http://www.reddit.com/r/tifu/\" class=\"title\" >tifu</a></li><li><span class=\"subscribe-button fancy-toggle-button toggle\" style=\"\" data-sr_name=\"todayilearned\" ><a class=\"option active remove login-required\" href=\"#\" tabindex=\"100\" >unsubscribe</a><a class=\"option add\" href=\"#\">subscribe</a></span><a href=\"http://www.reddit.com/r/todayilearned/\" class=\"title\" >todayilearned</a></li><li><span class=\"subscribe-button fancy-toggle-button toggle\" style=\"\" data-sr_name=\"TwoXChromosomes\" ><a class=\"option active remove login-required\" href=\"#\" tabindex=\"100\" >unsubscribe</a><a class=\"option add\" href=\"#\">subscribe</a></span><a href=\"http://www.reddit.com/r/TwoXChromosomes/\" class=\"title\" >TwoXChromosomes</a></li><li><span class=\"subscribe-button fancy-toggle-button toggle\" style=\"\" data-sr_name=\"UpliftingNews\" ><a class=\"option active remove login-required\" href=\"#\" tabindex=\"100\" >unsubscribe</a><a class=\"option add\" href=\"#\">subscribe</a></span><a href=\"http://www.reddit.com/r/UpliftingNews/\" class=\"title\" >UpliftingNews</a></li><li><span class=\"subscribe-button fancy-toggle-button toggle\" style=\"\" data-sr_name=\"videos\" ><a class=\"option active remove login-required\" href=\"#\" tabindex=\"100\" >unsubscribe</a><a class=\"option add\" href=\"#\">subscribe</a></span><a href=\"http://www.reddit.com/r/videos/\" class=\"title\" >videos</a></li><li><span class=\"subscribe-button fancy-toggle-button toggle\" style=\"\" data-sr_name=\"worldnews\" ><a class=\"option active remove login-required\" href=\"#\" tabindex=\"100\" >unsubscribe</a><a class=\"option add\" href=\"#\">subscribe</a></span><a href=\"http://www.reddit.com/r/worldnews/\" class=\"title\" >worldnews</a></li><li><span class=\"subscribe-button fancy-toggle-button toggle\" style=\"\" data-sr_name=\"WritingPrompts\" ><a class=\"option active remove login-required\" href=\"#\" tabindex=\"100\" >unsubscribe</a><a class=\"option add\" href=\"#\">subscribe</a></span><a href=\"http://www.reddit.com/r/WritingPrompts/\" class=\"title\" >WritingPrompts</a></li></ul></div></div></li></ul></div></div></div><a name=\"content\"></a><div class=\"content\" role=\"main\"><div class=\"search-summary\"><div></div></div><div class=\"searchpane raisedbox\"><h4 style=\"color:gray\">search subreddits by name</h4><div id=\"previoussearch\"><form action=\"http://www.reddit.com/subreddits/search\" id=\"search\" role=\"search\"><input type=\"text\" value=\"oldschoolcool\" style=\"color:black\" name=\"q\" placeholder=\"search\" tabindex=\"20\"><input type=\"submit\" value=\"\" tabindex=\"22\"></form></div></div><div class=\"infobar \"><div class=\"md\"><p>click the <code>subscribe</code> or <code>unsubscribe</code> buttons to choose which subreddits appear on your front page.</p>\n",
        "</div>\n",
        "</div><style>body >.content .link .rank, .rank-spacer { width: 1.1ex } body >.content .link .midcol, .midcol-spacer { width: 8.1ex }</style><div id=\"siteTable\" class=\"sitetable linklisting\"><div class=\" thing id-t5_2tycb odd&#32; subreddit \" onclick=\"click_thing(this)\" data-fullname=\"t5_2tycb\" ><p class=\"parent\"></p><div class=\"midcol\"><span class=\"subscribe-button fancy-toggle-button toggle\" style=\"\" data-sr_name=\"OldSchoolCool\" ><a class=\"option active remove login-required\" href=\"#\" tabindex=\"100\" >unsubscribe</a><a class=\"option add\" href=\"#\">subscribe</a></span></div><div class=\"entry likes\"><p class=\"titlerow\"><a href=\"http://www.reddit.com/r/OldSchoolCool/\" class=\"title\" >/r/OldSchoolCool: OldSchoolCool: History's cool kids, looking fantastic</a></p><div class=\"description\"><form action=\"#\" class=\"usertext\" onsubmit=\"return post_form(this, 'editusertext')\" id=\"form-t5_2tycbkaq\"><input type=\"hidden\" name=\"thing_id\" value=\"t5_2tycb\"/><div class=\"usertext-body may-blank-within md-container\"><div class=\"md\"><p><a href=\"/r/OldSchoolCool\">/r/OldSchoolCool</a></p>\n",
        "\n",
        "<p><strong>History&#39;s cool kids, looking fantastic!</strong></p>\n",
        "\n",
        "<p>A pictorial and video celebration of history&#39;s coolest kids, everything from beatniks to bikers, mods to rude boys, hippies to ravers. And everything in between. </p>\n",
        "\n",
        "<p>If you&#39;ve found a photo from the past of someone looking fantastic, here&#39;s the place to share it.  </p>\n",
        "</div>\n",
        "</div></form></div><p class=\"tagline\"><span class=\"score dislikes\"><span class=\"number\">2,191,094</span>&#32;<span class=\"word\">subscribers</span></span><span class=\"score unvoted\"><span class=\"number\">2,191,095</span>&#32;<span class=\"word\">subscribers</span></span><span class=\"score likes\"><span class=\"number\">2,191,096</span>&#32;<span class=\"word\">subscribers</span></span>, a community for 2 years</p><ul class=\"flat-list buttons\"><li class=\"report-button\"><a href=\"javascript:void(0)\" class=\"action-thing\" data-action-form=\"#report-action-form\">report</a></li></ul></div><div class=\"child\" ></div><div class=\"clearleft\"></div></div><div class=\"clearleft\"></div><div class=\" thing id-t5_3345k even&#32; subreddit \" onclick=\"click_thing(this)\" data-fullname=\"t5_3345k\" ><p class=\"parent\"></p><div class=\"midcol\"><span class=\"subscribe-button fancy-toggle-button toggle\" style=\"\" data-sr_name=\"oldschoolboners\" ><a class=\"option active add login-required\" href=\"#\" tabindex=\"100\" >subscribe</a><a class=\"option remove\" href=\"#\">unsubscribe</a></span><img class=\"sr-type-img\" title=\"over18\" alt=\"over18\" src=\"//www.redditstatic.com/over18_icon.png\" /></div><div class=\"entry unvoted\"><p class=\"titlerow\"><a href=\"http://www.reddit.com/r/oldschoolboners/\" class=\"title\" >/r/oldschoolboners: Old School Boners: It's not weird. Trust me.</a></p><div class=\"description\"><form action=\"#\" class=\"usertext\" onsubmit=\"return post_form(this, 'editusertext')\" id=\"form-t5_3345kxa8\"><input type=\"hidden\" name=\"thing_id\" value=\"t5_3345k\"/><div class=\"usertext-body may-blank-within md-container\"><div class=\"md\"><p>With a name and subject similar <a href=\"/r/gentlemenboners\">/r/gentlemenboners</a>, this subreddit is dedicated to sexy old pictures, such as pictures you might find on <a href=\"/r/oldschoolcool\">/r/oldschoolcool</a>. If it&#39;s an old pinup girl and you think it&#39;s sexy? Submit it here!</p>\n",
        "</div>\n",
        "</div></form></div><p class=\"tagline\"><span class=\"score dislikes\"><span class=\"number\">137</span>&#32;<span class=\"word\">subscribers</span></span><span class=\"score unvoted\"><span class=\"number\">138</span>&#32;<span class=\"word\">subscribers</span></span><span class=\"score likes\"><span class=\"number\">139</span>&#32;<span class=\"word\">subscribers</span></span>, a community for 5 months</p><ul class=\"flat-list buttons\"><li class=\"report-button\"><a href=\"javascript:void(0)\" class=\"action-thing\" data-action-form=\"#report-action-form\">report</a></li></ul></div><div class=\"child\" ></div><div class=\"clearleft\"></div></div><div class=\"clearleft\"></div><div class=\" thing id-t5_2vfi1 odd&#32; subreddit \" onclick=\"click_thing(this)\" data-fullname=\"t5_2vfi1\" ><p class=\"parent\"></p><div class=\"midcol\"><span class=\"subscribe-button fancy-toggle-button toggle\" style=\"\" data-sr_name=\"OldSchoolUnCool\" ><a class=\"option active add login-required\" href=\"#\" tabindex=\"100\" >subscribe</a><a class=\"option remove\" href=\"#\">unsubscribe</a></span></div><div class=\"entry unvoted\"><p class=\"titlerow\"><a href=\"http://www.reddit.com/r/OldSchoolUnCool/\" class=\"title\" >/r/OldSchoolUnCool: A light heard subreddit created to share pictures of history's UnCool Kids</a></p><div class=\"description\"><form action=\"#\" class=\"usertext\" onsubmit=\"return post_form(this, 'editusertext')\" id=\"form-t5_2vfi1plv\"><input type=\"hidden\" name=\"thing_id\" value=\"t5_2vfi1\"/><div class=\"usertext-body may-blank-within md-container\"><div class=\"md\"><p>For pictures not cool enough to be featured on r/OldSchoolCool . A light-hearted sub-reddit dedicated to history&#39;s UnCool Kids :) Poorly executed fashion trends of the past strongly encouraged. </p>\n",
        "</div>\n",
        "</div></form></div><p class=\"tagline\"><span class=\"score dislikes\"><span class=\"number\">177</span>&#32;<span class=\"word\">subscribers</span></span><span class=\"score unvoted\"><span class=\"number\">178</span>&#32;<span class=\"word\">subscribers</span></span><span class=\"score likes\"><span class=\"number\">179</span>&#32;<span class=\"word\">subscribers</span></span>, a community for 2 years</p><ul class=\"flat-list buttons\"><li class=\"report-button\"><a href=\"javascript:void(0)\" class=\"action-thing\" data-action-form=\"#report-action-form\">report</a></li></ul></div><div class=\"child\" ></div><div class=\"clearleft\"></div></div><div class=\"clearleft\"></div><div class=\" thing id-t5_33pgm even&#32; subreddit \" onclick=\"click_thing(this)\" data-fullname=\"t5_33pgm\" ><p class=\"parent\"></p><div class=\"midcol\"><span class=\"subscribe-button fancy-toggle-button toggle\" style=\"\" data-sr_name=\"BangMyParents\" ><a class=\"option active add login-required\" href=\"#\" tabindex=\"100\" >subscribe</a><a class=\"option remove\" href=\"#\">unsubscribe</a></span></div><div class=\"entry unvoted\"><p class=\"titlerow\"><a href=\"http://www.reddit.com/r/BangMyParents/\" class=\"title\" >/r/BangMyParents: I believe you meant /r/OldSchoolCool</a></p><p class=\"tagline\"><span class=\"score dislikes\"><span class=\"number\">102</span>&#32;<span class=\"word\">subscribers</span></span><span class=\"score unvoted\"><span class=\"number\">103</span>&#32;<span class=\"word\">subscribers</span></span><span class=\"score likes\"><span class=\"number\">104</span>&#32;<span class=\"word\">subscribers</span></span>, a community for 4 months</p><ul class=\"flat-list buttons\"><li class=\"report-button\"><a href=\"javascript:void(0)\" class=\"action-thing\" data-action-form=\"#report-action-form\">report</a></li></ul></div><div class=\"child\" ></div><div class=\"clearleft\"></div></div><div class=\"clearleft\"></div><div class=\" thing id-t5_32joa odd&#32; subreddit \" onclick=\"click_thing(this)\" data-fullname=\"t5_32joa\" ><p class=\"parent\"></p><div class=\"midcol\"><span class=\"subscribe-button fancy-toggle-button toggle\" style=\"\" data-sr_name=\"NuSkoolKool\" ><a class=\"option active add login-required\" href=\"#\" tabindex=\"100\" >subscribe</a><a class=\"option remove\" href=\"#\">unsubscribe</a></span></div><div class=\"entry unvoted\"><p class=\"titlerow\"><a href=\"http://www.reddit.com/r/NuSkoolKool/\" class=\"title\" >/r/NuSkoolKool: NuSkoolKool: Contemporary cool kids, looking hip.</a></p><div class=\"description\"><form action=\"#\" class=\"usertext\" onsubmit=\"return post_form(this, 'editusertext')\" id=\"form-t5_32joacqs\"><input type=\"hidden\" name=\"thing_id\" value=\"t5_32joa\"/><div class=\"usertext-body may-blank-within md-container\"><div class=\"md\"><p>A pictorial and video celebration of the hippest cool kids (read: kids at heart) of today, from hipsters to hippies, punks to hip-hoppers, yuppies to white trash fab. And everything in between.</p>\n",
        "\n",
        "<p>OR the people who will be on OldSchoolCool in twenty years. </p>\n",
        "</div>\n",
        "</div></form></div><p class=\"tagline\"><span class=\"score dislikes\"><span class=\"number\">9</span>&#32;<span class=\"word\">subscribers</span></span><span class=\"score unvoted\"><span class=\"number\">10</span>&#32;<span class=\"word\">subscribers</span></span><span class=\"score likes\"><span class=\"number\">11</span>&#32;<span class=\"word\">subscribers</span></span>, a community for 7 months</p><ul class=\"flat-list buttons\"><li class=\"report-button\"><a href=\"javascript:void(0)\" class=\"action-thing\" data-action-form=\"#report-action-form\">report</a></li></ul></div><div class=\"child\" ></div><div class=\"clearleft\"></div></div><div class=\"clearleft\"></div><div class=\" thing id-t5_32sy0 even&#32; subreddit \" onclick=\"click_thing(this)\" data-fullname=\"t5_32sy0\" ><p class=\"parent\"></p><div class=\"midcol\"><span class=\"subscribe-button fancy-toggle-button toggle\" style=\"\" data-sr_name=\"HighSchoolCool\" ><a class=\"option active add login-required\" href=\"#\" tabindex=\"100\" >subscribe</a><a class=\"option remove\" href=\"#\">unsubscribe</a></span></div><div class=\"entry unvoted\"><p class=\"titlerow\"><a href=\"http://www.reddit.com/r/HighSchoolCool/\" class=\"title\" >/r/HighSchoolCool: I was a total jock</a></p><div class=\"description\"><form action=\"#\" class=\"usertext\" onsubmit=\"return post_form(this, 'editusertext')\" id=\"form-t5_32sy0s8k\"><input type=\"hidden\" name=\"thing_id\" value=\"t5_32sy0\"/><div class=\"usertext-body may-blank-within md-container\"><div class=\"md\"><p>Where you a loser in high school? Was something only cool in high school and now isn&#39;t but the fact that it was cool in high school still make it cool today (even knowing it really doesn&#39;t)?</p>\n",
        "\n",
        "<p>&quot;Bro that photo is so vintage. <em>[TIMESTAMP OCTOBER 1992]</em>&quot;</p>\n",
        "\n",
        "<p>&quot;<a href=\"http://np.reddit.com/r/OldSchoolCool/comments/2c141z/my_mum_posing_with_a_diet_coke_in_the_80s/\">Here is my mom is a really mediocre advertisement but it was from 1980 so its cool right?</a>&quot;</p>\n",
        "</div>\n",
        "</div></form></div><p class=\"tagline\"><span class=\"score dislikes\"><span class=\"number\">1</span>&#32;<span class=\"word\">subscriber</span></span><span class=\"score unvoted\"><span class=\"number\">2</span>&#32;<span class=\"word\">subscribers</span></span><span class=\"score likes\"><span class=\"number\">3</span>&#32;<span class=\"word\">subscribers</span></span>, a community for 6 months</p><ul class=\"flat-list buttons\"><li class=\"report-button\"><a href=\"javascript:void(0)\" class=\"action-thing\" data-action-form=\"#report-action-form\">report</a></li></ul></div><div class=\"child\" ></div><div class=\"clearleft\"></div></div><div class=\"clearleft\"></div><div class=\" thing id-t5_34dhz odd&#32; subreddit \" onclick=\"click_thing(this)\" data-fullname=\"t5_34dhz\" ><p class=\"parent\"></p><div class=\"midcol\"><span class=\"subscribe-button fancy-toggle-button toggle\" style=\"\" data-sr_name=\"oldschoolsquare\" ><a class=\"option active add login-required\" href=\"#\" tabindex=\"100\" >subscribe</a><a class=\"option remove\" href=\"#\">unsubscribe</a></span></div><div class=\"entry unvoted\"><p class=\"titlerow\"><a href=\"http://www.reddit.com/r/oldschoolsquare/\" class=\"title\" >/r/oldschoolsquare: Memes of a Lost Era</a></p><div class=\"description\"><form action=\"#\" class=\"usertext\" onsubmit=\"return post_form(this, 'editusertext')\" id=\"form-t5_34dhzlb3\"><input type=\"hidden\" name=\"thing_id\" value=\"t5_34dhz\"/><div class=\"usertext-body may-blank-within md-container\"><div class=\"md\"><p>The opposite of <a href=\"/r/oldschoolcool\">/r/oldschoolcool</a>. Plenty of dorks in the past. Here&#39;s a place for them.</p>\n",
        "</div>\n",
        "</div></form></div><p class=\"tagline\"><span class=\"score dislikes\"><span class=\"number\">1</span>&#32;<span class=\"word\">subscriber</span></span><span class=\"score unvoted\"><span class=\"number\">2</span>&#32;<span class=\"word\">subscribers</span></span><span class=\"score likes\"><span class=\"number\">3</span>&#32;<span class=\"word\">subscribers</span></span>, a community for 3 months</p><ul class=\"flat-list buttons\"><li class=\"report-button\"><a href=\"javascript:void(0)\" class=\"action-thing\" data-action-form=\"#report-action-form\">report</a></li></ul></div><div class=\"child\" ></div><div class=\"clearleft\"></div></div><div class=\"clearleft\"></div><div class=\" thing id-t5_36j5a even&#32; subreddit \" onclick=\"click_thing(this)\" data-fullname=\"t5_36j5a\" ><p class=\"parent\"></p><div class=\"midcol\"><span class=\"subscribe-button fancy-toggle-button toggle\" style=\"\" data-sr_name=\"OldSchoolFugly\" ><a class=\"option active add login-required\" href=\"#\" tabindex=\"100\" >subscribe</a><a class=\"option remove\" href=\"#\">unsubscribe</a></span></div><div class=\"entry unvoted\"><p class=\"titlerow\"><a href=\"http://www.reddit.com/r/OldSchoolFugly/\" class=\"title\" >/r/OldSchoolFugly: History's fugliest</a></p><div class=\"description\"><form action=\"#\" class=\"usertext\" onsubmit=\"return post_form(this, 'editusertext')\" id=\"form-t5_36j5ai6r\"><input type=\"hidden\" name=\"thing_id\" value=\"t5_36j5a\"/><div class=\"usertext-body may-blank-within md-container\"><div class=\"md\"><p>Like OldSchoolCool, but the opposite.</p>\n",
        "</div>\n",
        "</div></form></div><p class=\"tagline\"><span class=\"score dislikes\"><span class=\"number\">4</span>&#32;<span class=\"word\">subscribers</span></span><span class=\"score unvoted\"><span class=\"number\">5</span>&#32;<span class=\"word\">subscribers</span></span><span class=\"score likes\"><span class=\"number\">6</span>&#32;<span class=\"word\">subscribers</span></span>, a community for 1 day</p><ul class=\"flat-list buttons\"><li class=\"report-button\"><a href=\"javascript:void(0)\" class=\"action-thing\" data-action-form=\"#report-action-form\">report</a></li></ul></div><div class=\"child\" ></div><div class=\"clearleft\"></div></div><div class=\"clearleft\"></div></div></div><div class=\"footer-parent\"><div by-zero class=\"footer rounded\"><div class=\"col\"><ul class=\"flat-vert hover\" ><li class=\"flat-vert title\">about</li><li ><a href=\"http://www.reddit.com/blog/\" class=\"choice\" >blog</a></li><li ><span class=\"separator\"></span><a href=\"http://www.reddit.com/about/\" class=\"choice\" >about</a></li><li ><span class=\"separator\"></span><a href=\"http://www.reddit.com/about/team/\" class=\"choice\" >team</a></li><li ><span class=\"separator\"></span><a href=\"http://www.reddit.com/code/\" class=\"choice\" >source code</a></li><li ><span class=\"separator\"></span><a href=\"http://www.reddit.com/advertising/\" class=\"choice\" >advertise</a></li><li ><span class=\"separator\"></span><a href=\"http://www.reddit.com/jobs/\" class=\"choice\" >jobs</a></li></ul></div><div class=\"col\"><ul class=\"flat-vert hover\" ><li class=\"flat-vert title\">help</li><li ><a href=\"http://www.reddit.com/wiki/\" class=\"choice\" >wiki</a></li><li ><span class=\"separator\"></span><a href=\"http://www.reddit.com/wiki/faq\" class=\"choice\" >FAQ</a></li><li ><span class=\"separator\"></span><a href=\"http://www.reddit.com/wiki/reddiquette\" class=\"choice\" >reddiquette</a></li><li ><span class=\"separator\"></span><a href=\"http://www.reddit.com/rules/\" class=\"choice\" >rules</a></li><li ><span class=\"separator\"></span><a href=\"http://www.reddit.com/contact/\" class=\"choice\" >contact us</a></li></ul></div><div class=\"col\"><ul class=\"flat-vert hover\" ><li class=\"flat-vert title\">tools</li><li ><a href=\"http://i.reddit.com\" class=\"choice\" >mobile</a></li><li ><span class=\"separator\"></span><a href=\"https://addons.mozilla.org/firefox/addon/socialite/\" class=\"choice\" >firefox extension</a></li><li ><span class=\"separator\"></span><a href=\"https://chrome.google.com/webstore/detail/algjnflpgoopkdijmkalfcifomdhmcbe\" class=\"choice\" >chrome extension</a></li><li ><span class=\"separator\"></span><a href=\"http://www.reddit.com/subreddits/buttons/\" class=\"choice\" >buttons</a></li><li ><span class=\"separator\"></span><a href=\"http://www.reddit.com/subreddits/widget/\" class=\"choice\" >widget</a></li></ul></div><div class=\"col\"><ul class=\"flat-vert hover\" ><li class=\"flat-vert title\">&lt;3</li><li ><a href=\"http://www.reddit.com/gold/about/\" class=\"buygold choice\" >reddit gold</a></li><li ><span class=\"separator\"></span><a href=\"http://www.reddit.com/store/\" class=\"choice\" >store</a></li><li ><span class=\"separator\"></span><a href=\"http://redditgifts.com\" class=\"choice\" >redditgifts</a></li><li ><span class=\"separator\"></span><a href=\"https://redditama.reddit.com\" class=\"choice\" >reddit AMA app</a></li><li ><span class=\"separator\"></span><a href=\"http://reddit.tv\" class=\"choice\" >reddit.tv</a></li><li ><span class=\"separator\"></span><a href=\"http://radioreddit.com\" class=\"choice\" >radio reddit</a></li></ul></div></div><p class=\"bottommenu\">Use of this site constitutes acceptance of our&#32;<a href=\"http://www.reddit.com/help/useragreement\" class=\"updated\" >User Agreement (updated)</a>&#32;and&#32;<a href=\"http://www.reddit.com/help/privacypolicy\" class=\"updated\" >Privacy Policy (updated)</a>. &copy; 2015 reddit inc. All rights reserved.</p><p class=\"bottommenu\">REDDIT and the ALIEN Logo are registered trademarks of reddit inc.</p></div><script>var BETA_HOST = 'beta.reddit.com'; if (location.host === BETA_HOST) { r.config.https_endpoint = 'https://' + BETA_HOST; }</script><script id=\"login-popup\" type=\"text/template\"><h3 id=\"cover-msg\" class=\"modal-title\">You need to login to do that.</h3><div id=\"login\"><div class=\"split-panel\"><div class=\"split-panel-section split-panel-divider\"><h4 class=\"modal-title\">create a new account</h4><form id=\"register-form\" method=\"post\" action=\"https://www.reddit.com/subreddits/post/reg\" class=\"form-v2\"><input type=\"hidden\" name=\"op\" value=\"reg\"><div class=\"c-form-group \"><label for=\"user_reg\" class=\"screenreader-only\">username:</label><input value=\"\" name=\"user\" id=\"user_reg\" class=\"c-form-control\" type=\"text\" maxlength=\"20\" tabindex=\"2\" placeholder=\"choose a username\" data-validate-url=\"/api/check_username.json\" data-validate-min=\"3\" autocomplete=\"off\" ><div class=\"c-form-control-feedback-wrapper\"><span class=\"c-form-control-feedback c-form-control-feedback-throbber\"></span><span class=\"c-form-control-feedback c-form-control-feedback-error\" title=\"\"></span><span class=\"c-form-control-feedback c-form-control-feedback-success\"></span></div></div><div class=\"c-form-group \"><label for=\"passwd_reg\" class=\"screenreader-only\">password:</label><input id=\"passwd_reg\" class=\"c-form-control\" name=\"passwd\" type=\"password\" tabindex=\"2\" placeholder=\"password\" data-validate-url='/api/check_password.json'><div class=\"c-form-control-feedback-wrapper\"><span class=\"c-form-control-feedback c-form-control-feedback-throbber\"></span><span class=\"c-form-control-feedback c-form-control-feedback-error\" title=\"\"></span><span class=\"c-form-control-feedback c-form-control-feedback-success\"></span></div></div><div class=\"c-form-group \"><label for=\"passwd2_reg\" class=\"screenreader-only\">verify password:</label><input name=\"passwd2\" id=\"passwd2_reg\" class=\"c-form-control\" type=\"password\" tabindex=\"2\" placeholder=\"verify password\"><div class=\"c-form-control-feedback-wrapper\"><span class=\"c-form-control-feedback c-form-control-feedback-throbber\"></span><span class=\"c-form-control-feedback c-form-control-feedback-error\" title=\"\"></span><span class=\"c-form-control-feedback c-form-control-feedback-success\"></span></div></div><div class=\"c-form-group \"><label for=\"email_reg\" class=\"screenreader-only\">email: &nbsp;<i>(optional)</i></label><input value=\"\" name=\"email\" id=\"email_reg\" class=\"c-form-control\" type=\"text\" tabindex=\"2\" placeholder=\"email (optional)\" data-validate-url=\"/api/check_email.json\" data-validate-on=\"change blur\"><div class=\"c-form-control-feedback-wrapper\"><span class=\"c-form-control-feedback c-form-control-feedback-throbber\"></span><span class=\"c-form-control-feedback c-form-control-feedback-error\" title=\"\"></span><span class=\"c-form-control-feedback c-form-control-feedback-success\"></span></div></div><div class=\"c-checkbox c-input-height\"><label for=\"rem_reg\" class=\"remember\"><input type=\"checkbox\" name=\"rem\" id=\"rem_reg\" tabindex=\"2\">remember me</label></div><div class=\"c-clearfix\"><span class=\"c-form-throbber\"></span><button type=\"submit\" class=\"c-btn c-btn-primary c-pull-right\" tabindex=\"2\">create account</button></div><div><div class=\"c-alert c-alert-danger\"></div><span class=\"error RATELIMIT field-ratelimit\" style=\"display:none\"></span><span class=\"error RATELIMIT field-vdelay\" style=\"display:none\"></span></div></form></div><div class=\"split-panel-section\"><h4 class=\"modal-title\">sign in</h4><form id=\"login-form\" method=\"post\" action=\"https://www.reddit.com/subreddits/post/login\" class=\"form-v2\"><input type=\"hidden\" name=\"op\" value=\"login\"><div class=\"c-form-group \"><label for=\"user_login\" class=\"screenreader-only\">username:</label><input value=\"\" name=\"user\" id=\"user_login\" class=\"c-form-control\" type=\"text\" maxlength=\"20\" tabindex=\"3\" placeholder=\"username\" ></div><div class=\"c-form-group \"><label for=\"passwd_login\" class=\"screenreader-only\">password:</label><input id=\"passwd_login\" class=\"c-form-control\" name=\"passwd\" type=\"password\" tabindex=\"3\" placeholder=\"password\" ><div class=\"c-form-control-feedback-wrapper\"><span class=\"c-form-control-feedback c-form-control-feedback-throbber\"></span><span class=\"c-form-control-feedback c-form-control-feedback-error\" title=\"\"></span><span class=\"c-form-control-feedback c-form-control-feedback-success\"></span></div></div><div class=\"c-checkbox c-input-height\"><label for=\"rem_login\" class=\"remember\"><input type=\"checkbox\" name=\"rem\" id=\"rem_login\" tabindex=\"3\">remember me</label><a href=\"/password\" class=\"c-pull-right\">reset password</a></div><div class=\"c-clearfix\"><span class=\"c-form-throbber\"></span><button type=\"submit\" class=\"c-btn c-btn-primary c-pull-right\" tabindex=\"3\">sign in</button></div><div><div class=\"c-alert c-alert-danger\"></div></div></form></div></div><p class=\"login-disclaimer\">We care about your privacy, and we never spam. By creating an account, you agree to reddit's&#32;<a href=\"http://www.reddit.com/help/useragreement\" >User Agreement</a>&#32;and&#32;<a href=\"http://www.reddit.com/help/privacypolicy\" >Privacy Policy</a>. We're proud of them, and you should read them.</p></div></script><script id=\"lang-popup\" type=\"text/template\"><form action=\"http://www.reddit.com/post/unlogged_options\" method=\"post\" class=\"pretty-form short-text\"><input type=\"hidden\" name=\"uh\" value=\"\" /><table class=\"content preftable\"><tr><th>interface language</th><td class=\"prefright\"><select id=\"lang\" name=\"lang\"><option selected='selected' value=\"en\">English [en]</option><option value=\"ar\">\u0627\u0644\u0639\u0631\u0628\u064a\u0629 [ar]</option><option value=\"be\">\u0411\u0435\u043b\u0430\u0440\u0443\u0441\u043a\u0430\u044f \u043c\u043e\u0432\u0430 [be]</option><option value=\"bg\">\u0431\u044a\u043b\u0433\u0430\u0440\u0441\u043a\u0438 \u0435\u0437\u0438\u043a [bg]</option><option value=\"bs\">Bosanski [bs]</option><option value=\"ca\">catal\u00e0 [ca]</option><option value=\"cs\">\u010desky [cs]</option><option value=\"da\">dansk [da]</option><option value=\"de\">Deutsch [de]</option><option value=\"el\">\u0395\u03bb\u03bb\u03b7\u03bd\u03b9\u03ba\u03ac [el]</option><option value=\"en-au\">English (Australia) [en-au]</option><option value=\"en-ca\">English (Canadian) [en-ca]</option><option value=\"en-gb\">English (Great Britain) [en-gb]</option><option value=\"en-us\">English [en-us]</option><option value=\"eo\">Esperanto [eo]</option><option value=\"es\">espa\u00f1ol [es]</option><option value=\"es-ar\">espa\u00f1ol [es-ar]</option><option value=\"et\">eesti keel [et]</option><option value=\"eu\">Euskara [eu]</option><option value=\"fa\">\u0641\u0627\u0631\u0633\u06cc [fa]</option><option value=\"fi\">suomi [fi]</option><option value=\"fr\">fran\u00e7ais [fr]</option><option value=\"gd\">G\u00e0idhlig [gd]</option><option value=\"he\">\u05e2\u05d1\u05e8\u05d9\u05ea [he]</option><option value=\"hi\">\u092e\u093e\u0928\u0915 \u0939\u093f\u0928\u094d\u0926\u0940 [hi]</option><option value=\"hr\">hrvatski [hr]</option><option value=\"hu\">Magyar [hu]</option><option value=\"hy\">\u0540\u0561\u0575\u0565\u0580\u0565\u0576 \u056c\u0565\u0566\u0578\u0582 [hy]</option><option value=\"id\">Bahasa Indonesia [id]</option><option value=\"is\">\u00edslenska [is] (*)</option><option value=\"it\">italiano (Italy) [it]</option><option value=\"ja\">\u65e5\u672c\u8a9e [ja]</option><option value=\"kn_IN\">\u0c95\u0ca8\u0ccd\u0ca8\u0ca1 [kn_IN]</option><option value=\"ko\">\ud55c\uad6d\uc5b4 [ko]</option><option value=\"la\">Latin [la]</option><option value=\"leet\">1337 [leet]</option><option value=\"lol\">LOL [lol]</option><option value=\"lt\">lietuvi\u0173 kalba [lt]</option><option value=\"lv\">latvie\u0161u valoda [lv]</option><option value=\"nl\">Nederlands [nl]</option><option value=\"nn\">Nynorsk [nn]</option><option value=\"no\">Norsk [no]</option><option value=\"pir\">Arrrrrrrr! [pir]</option><option value=\"pl\">polski [pl]</option><option value=\"pt\">portugu\u00eas [pt] (*)</option><option value=\"pt-pt\">portugu\u00eas [pt-pt]</option><option value=\"pt_BR\">portugu\u00eas brasileiro [pt_BR]</option><option value=\"ro\">rom\u00e2n\u0103 [ro]</option><option value=\"ru\">\u0440\u0443\u0441\u0441\u043a\u0438\u0439 [ru]</option><option value=\"sk\">sloven\u010dina [sk]</option><option value=\"sl\">sloven\u0161\u010dina [sl]</option><option value=\"sr\">\u0441\u0440\u043f\u0441\u043a\u0438 \u0458\u0435\u0437\u0438\u043a [sr]</option><option value=\"sr-la\">Srpski [sr-la]</option><option value=\"sv\">Svenska [sv]</option><option value=\"ta\">\u0ba4\u0bae\u0bbf\u0bb4\u0bcd [ta]</option><option value=\"th\">\u0e20\u0e32\u0e29\u0e32\u0e44\u0e17\u0e22 [th]</option><option value=\"tr\">T\u00fcrk\u00e7e [tr]</option><option value=\"uk\">\u0443\u043a\u0440\u0430\u0457\u043d\u0441\u044c\u043a\u0430 \u043c\u043e\u0432\u0430 [uk]</option><option value=\"vi\">Ti\u1ebfng Vi\u1ec7t [vi]</option><option value=\"zh\">\u4e2d\u6587 [zh]</option></select>&#32;<span class=\"little gray hover\">(*) incomplete &#32;<a href=\"http://www.reddit.com/r/i18n/wiki/getting_started\">volunteer to translate</a></span></td></tr><tr><td><input type=\"submit\" class=\"btn\" value=\"save options\"/></td></tr></table></form></script><p class=\"debuginfo\"><span class=\"icon\">&pi;</span>&nbsp;<span class=\"content\">Rendered by PID 9532 on&#32; app-89 &#32;at 2015-02-11 18:23:30.418379+00:00 running 1a6c2e5 country code: US.</span></p><script type=\"text/javascript\" src=\"//www.redditstatic.com/reddit.en.y01Y5AgNHnw.js\"></script></body></html>\n"
       ]
      }
     ],
     "prompt_number": 5
    },
    {
     "cell_type": "code",
     "collapsed": false,
     "input": [
      "import time, pickle, requests\n",
      "\n",
      "#functions for finding respective fields \n",
      "\n",
      "def get_substring(text, pos, start_str, end_str):\n",
      "    i_start = text.find(start_str,pos)\n",
      "    pos = i_start \n",
      "    if i_start < 0: \n",
      "        return pos, 'None'\n",
      "    pos += len(start_str)\n",
      "    i_end = text.find(end_str,pos)\n",
      "    return pos, text[pos:i_end]\n",
      "\n",
      "def get_description(text, pos):\n",
      "    start_str = '<div class=\"usertext-body may-blank-within md-container\"><div class=\"md\">'\n",
      "    end_str = '</div>'\n",
      "    return get_substring(text, pos, start_str, end_str)\n",
      "\n",
      "\n",
      "def get_title(text, pos):\n",
      "    start_str = 'class=\"title\" >/r/'\n",
      "    end_str = '</a>'\n",
      "    return get_substring(text, pos, start_str, end_str)\n",
      "\n",
      "def get_nsubscribers(text,pos):\n",
      "    start_str = 'subscribers</span></span><span class=\"score likes\"><span class=\"number\">'\n",
      "    end_str = '</span>'\n",
      "    return get_substring(text, pos, start_str, end_str)\n",
      "\n",
      "def get_age(text,pos):\n",
      "    start_str = '</span>, a community for '\n",
      "    end_str = '</p>'\n",
      "    return get_substring(text, pos, start_str, end_str)\n",
      "\n",
      "def get_next_url(text,pos, it):\n",
      "    if it ==0:\n",
      "        start_str = '<span class=\"nextprev\">view more:&#32;<a href=\"'        \n",
      "    else:\n",
      "        start_str = '</a><span class=\"separator\"></span><a href=\"'\n",
      "    end_str = '\" rel=\"nofollow next\" >'\n",
      "    return get_substring(text,pos,start_str,end_str)\n"
     ],
     "language": "python",
     "metadata": {},
     "outputs": [],
     "prompt_number": 82
    },
    {
     "cell_type": "heading",
     "level": 3,
     "metadata": {},
     "source": [
      "Starting conditions "
     ]
    },
    {
     "cell_type": "code",
     "collapsed": false,
     "input": [
      "sub_dict = pickle.load(open('../data/sub_dict.pkl','rd'))\n",
      "sub_des = dict()\n",
      "#url = subr_des['current_url']"
     ],
     "language": "python",
     "metadata": {},
     "outputs": [],
     "prompt_number": 90
    },
    {
     "cell_type": "heading",
     "level": 3,
     "metadata": {},
     "source": [
      "Data collection"
     ]
    },
    {
     "cell_type": "code",
     "collapsed": false,
     "input": [
      "for sub in sub_dict:\n",
      "    \n",
      "    #reddit doesn't like scrapers\n",
      "    url = 'http://www.reddit.com/subreddits/search?q=' + sub\n",
      "    \n",
      "    while True:\n",
      "        try:\n",
      "            text = requests.get(url).text\n",
      "            if text.find('<title>Too Many Requests</title>')<0:\n",
      "                break\n",
      "            print 'sleeping for 10'\n",
      "            time.sleep(10)\n",
      "        except:\n",
      "            print 'connection error'\n",
      "            print 'sleeping for 10'\n",
      "            time.sleep(10)\n",
      "        \n",
      "    pos = [0]*4\n",
      "    while pos[3] >= 0:\n",
      "        pos[0], title = get_title(text, pos[0])\n",
      "        pos[1], description = get_description(text, pos[1])\n",
      "        pos[2], nsubscribers = get_nsubscribers(text, pos[2])\n",
      "        pos[3], age = get_age(text, pos[3])\n",
      "        \n",
      "        #check to see if the last title has been found\n",
      "        if  pos[0] < 0:\n",
      "            break\n",
      "            \n",
      "        #If there is no description it will read the next one\n",
      "        if pos[1]>pos[2]:\n",
      "            description =' '\n",
      "            pos[1] = pos[0]\n",
      "            \n",
      "        #save as a hash map for quick access\n",
      "        key = title[:title.find(':')].lower()\n",
      "        subr_des[key] = [title,description,nsubscribers,age]\n",
      "        #subr_des['current_url'] = url\n",
      "    \n",
      "    #dump once a page\n",
      "    pickle.dump(subr_des, open('descriptionSearch_dict.pkl','wd'))\n",
      "        \n",
      "    print \"page \", i+1\n",
      "    print \"url\", url \n",
      "    print \"n subs collected: \", len(sub_des), \" out of \", len(sub_dict)\n",
      "    \n",
      "    \n",
      "    #reddit doesn't like scrapers\n",
      "    time.sleep(4)"
     ],
     "language": "python",
     "metadata": {},
     "outputs": [
      {
       "output_type": "stream",
       "stream": "stdout",
       "text": [
        "sleeping for 10\n",
        "sleeping for 10"
       ]
      },
      {
       "output_type": "stream",
       "stream": "stdout",
       "text": [
        "\n",
        "sleeping for 10"
       ]
      },
      {
       "output_type": "stream",
       "stream": "stdout",
       "text": [
        "\n",
        "sleeping for 10"
       ]
      },
      {
       "output_type": "stream",
       "stream": "stdout",
       "text": [
        "\n",
        "sleeping for 10"
       ]
      },
      {
       "output_type": "stream",
       "stream": "stdout",
       "text": [
        "\n",
        "sleeping for 10"
       ]
      },
      {
       "output_type": "stream",
       "stream": "stdout",
       "text": [
        "\n",
        "sleeping for 10"
       ]
      },
      {
       "output_type": "stream",
       "stream": "stdout",
       "text": [
        "\n",
        "page "
       ]
      },
      {
       "output_type": "stream",
       "stream": "stdout",
       "text": [
        " 1\n",
        "subs  6276\n",
        "next url http://www.reddit.com/subreddits?count=6251&amp;before=t5_2y9pu\" rel=\"nofollow prev\" >&lsaquo; prev</a><span class=\"separator\"></span><a href=\"http://www.reddit.com/subreddits?amp=&amp;count=6275&amp;after=t5_2wl1s\n",
        "sleeping for 10"
       ]
      },
      {
       "output_type": "stream",
       "stream": "stdout",
       "text": [
        "\n",
        "sleeping for 10"
       ]
      },
      {
       "output_type": "stream",
       "stream": "stdout",
       "text": [
        "\n",
        "sleeping for 10"
       ]
      },
      {
       "output_type": "stream",
       "stream": "stdout",
       "text": [
        "\n",
        "sleeping for 10"
       ]
      },
      {
       "output_type": "stream",
       "stream": "stdout",
       "text": [
        "\n",
        "sleeping for 10"
       ]
      },
      {
       "output_type": "stream",
       "stream": "stdout",
       "text": [
        "\n",
        "sleeping for 10"
       ]
      },
      {
       "output_type": "stream",
       "stream": "stdout",
       "text": [
        "\n",
        "sleeping for 10"
       ]
      },
      {
       "output_type": "stream",
       "stream": "stdout",
       "text": [
        "\n",
        "sleeping for 10"
       ]
      },
      {
       "output_type": "stream",
       "stream": "stdout",
       "text": [
        "\n",
        "page "
       ]
      },
      {
       "output_type": "stream",
       "stream": "stdout",
       "text": [
        " 2\n",
        "subs  6301\n",
        "next url http://www.reddit.com/subreddits?count=6300&amp;after=t5_2uq8j\n",
        "sleeping for 10"
       ]
      },
      {
       "output_type": "stream",
       "stream": "stdout",
       "text": [
        "\n",
        "page "
       ]
      },
      {
       "output_type": "stream",
       "stream": "stdout",
       "text": [
        " 3\n",
        "subs  6326\n",
        "next url http://www.reddit.com/subreddits?count=6325&amp;after=t5_2t1rd\n",
        "sleeping for 10"
       ]
      },
      {
       "output_type": "stream",
       "stream": "stdout",
       "text": [
        "\n",
        "sleeping for 10"
       ]
      },
      {
       "output_type": "stream",
       "stream": "stdout",
       "text": [
        "\n",
        "sleeping for 10"
       ]
      },
      {
       "output_type": "stream",
       "stream": "stdout",
       "text": [
        "\n",
        "page "
       ]
      },
      {
       "output_type": "stream",
       "stream": "stdout",
       "text": [
        " 4\n",
        "subs  6351\n",
        "next url http://www.reddit.com/subreddits?count=6350&amp;after=t5_2s4ze\n",
        "sleeping for 10"
       ]
      },
      {
       "output_type": "stream",
       "stream": "stdout",
       "text": [
        "\n",
        "sleeping for 10"
       ]
      },
      {
       "output_type": "stream",
       "stream": "stdout",
       "text": [
        "\n",
        "sleeping for 10"
       ]
      },
      {
       "output_type": "stream",
       "stream": "stdout",
       "text": [
        "\n",
        "sleeping for 10"
       ]
      },
      {
       "output_type": "stream",
       "stream": "stdout",
       "text": [
        "\n",
        "sleeping for 10"
       ]
      },
      {
       "output_type": "stream",
       "stream": "stdout",
       "text": [
        "\n",
        "sleeping for 10"
       ]
      },
      {
       "output_type": "stream",
       "stream": "stdout",
       "text": [
        "\n",
        "sleeping for 10"
       ]
      },
      {
       "output_type": "stream",
       "stream": "stdout",
       "text": [
        "\n",
        "sleeping for 10"
       ]
      },
      {
       "output_type": "stream",
       "stream": "stdout",
       "text": [
        "\n",
        "sleeping for 10"
       ]
      },
      {
       "output_type": "stream",
       "stream": "stdout",
       "text": [
        "\n",
        "sleeping for 10"
       ]
      },
      {
       "output_type": "stream",
       "stream": "stdout",
       "text": [
        "\n",
        "sleeping for 10"
       ]
      },
      {
       "output_type": "stream",
       "stream": "stdout",
       "text": [
        "\n",
        "sleeping for 10"
       ]
      },
      {
       "output_type": "stream",
       "stream": "stdout",
       "text": [
        "\n",
        "sleeping for 10"
       ]
      },
      {
       "output_type": "stream",
       "stream": "stdout",
       "text": [
        "\n",
        "sleeping for 10"
       ]
      },
      {
       "output_type": "stream",
       "stream": "stdout",
       "text": [
        "\n",
        "page "
       ]
      },
      {
       "output_type": "stream",
       "stream": "stdout",
       "text": [
        " 5\n",
        "subs  6376\n",
        "next url http://www.reddit.com/subreddits?count=6375&amp;after=t5_2quav\n",
        "sleeping for 10"
       ]
      },
      {
       "output_type": "stream",
       "stream": "stdout",
       "text": [
        "\n",
        "sleeping for 10"
       ]
      },
      {
       "output_type": "stream",
       "stream": "stdout",
       "text": [
        "\n",
        "sleeping for 10"
       ]
      },
      {
       "output_type": "stream",
       "stream": "stdout",
       "text": [
        "\n",
        "page "
       ]
      },
      {
       "output_type": "stream",
       "stream": "stdout",
       "text": [
        " 6\n",
        "subs  6401\n",
        "next url http://www.reddit.com/subreddits?count=6400&amp;after=t5_2qhc5\n",
        "sleeping for 10"
       ]
      },
      {
       "output_type": "stream",
       "stream": "stdout",
       "text": [
        "\n",
        "sleeping for 10"
       ]
      },
      {
       "output_type": "stream",
       "stream": "stdout",
       "text": [
        "\n",
        "sleeping for 10"
       ]
      },
      {
       "output_type": "stream",
       "stream": "stdout",
       "text": [
        "\n",
        "sleeping for 10"
       ]
      },
      {
       "output_type": "stream",
       "stream": "stdout",
       "text": [
        "\n",
        "page "
       ]
      },
      {
       "output_type": "stream",
       "stream": "stdout",
       "text": [
        " 7\n",
        "subs  6426\n",
        "next url http://www.reddit.com/subreddits?count=6425&amp;after=t5_348fc\n",
        "page "
       ]
      },
      {
       "output_type": "stream",
       "stream": "stdout",
       "text": [
        " 8\n",
        "subs  6451\n",
        "next url http://www.reddit.com/subreddits?count=6450&amp;after=t5_31rou\n",
        "sleeping for 10"
       ]
      },
      {
       "output_type": "stream",
       "stream": "stdout",
       "text": [
        "\n",
        "sleeping for 10"
       ]
      },
      {
       "output_type": "stream",
       "stream": "stdout",
       "text": [
        "\n",
        "sleeping for 10"
       ]
      },
      {
       "output_type": "stream",
       "stream": "stdout",
       "text": [
        "\n",
        "sleeping for 10"
       ]
      },
      {
       "output_type": "stream",
       "stream": "stdout",
       "text": [
        "\n",
        "sleeping for 10"
       ]
      },
      {
       "output_type": "stream",
       "stream": "stdout",
       "text": [
        "\n",
        "sleeping for 10"
       ]
      },
      {
       "output_type": "stream",
       "stream": "stdout",
       "text": [
        "\n",
        "sleeping for 10"
       ]
      },
      {
       "output_type": "stream",
       "stream": "stdout",
       "text": [
        "\n",
        "sleeping for 10"
       ]
      },
      {
       "output_type": "stream",
       "stream": "stdout",
       "text": [
        "\n",
        "sleeping for 10"
       ]
      },
      {
       "output_type": "stream",
       "stream": "stdout",
       "text": [
        "\n",
        "page "
       ]
      },
      {
       "output_type": "stream",
       "stream": "stdout",
       "text": [
        " 9\n",
        "subs  6476\n",
        "next url http://www.reddit.com/subreddits?count=6475&amp;after=t5_3058z\n",
        "sleeping for 10"
       ]
      },
      {
       "output_type": "stream",
       "stream": "stdout",
       "text": [
        "\n",
        "sleeping for 10"
       ]
      },
      {
       "output_type": "stream",
       "stream": "stdout",
       "text": [
        "\n",
        "sleeping for 10"
       ]
      },
      {
       "output_type": "stream",
       "stream": "stdout",
       "text": [
        "\n",
        "sleeping for 10"
       ]
      },
      {
       "output_type": "stream",
       "stream": "stdout",
       "text": [
        "\n",
        "sleeping for 10"
       ]
      },
      {
       "output_type": "stream",
       "stream": "stdout",
       "text": [
        "\n",
        "sleeping for 10"
       ]
      },
      {
       "output_type": "stream",
       "stream": "stdout",
       "text": [
        "\n",
        "sleeping for 10"
       ]
      },
      {
       "output_type": "stream",
       "stream": "stdout",
       "text": [
        "\n",
        "sleeping for 10"
       ]
      },
      {
       "output_type": "stream",
       "stream": "stdout",
       "text": [
        "\n",
        "sleeping for 10"
       ]
      },
      {
       "output_type": "stream",
       "stream": "stdout",
       "text": [
        "\n",
        "sleeping for 10"
       ]
      },
      {
       "output_type": "stream",
       "stream": "stdout",
       "text": [
        "\n",
        "sleeping for 10"
       ]
      },
      {
       "output_type": "stream",
       "stream": "stdout",
       "text": [
        "\n",
        "sleeping for 10"
       ]
      },
      {
       "output_type": "stream",
       "stream": "stdout",
       "text": [
        "\n",
        "sleeping for 10"
       ]
      },
      {
       "output_type": "stream",
       "stream": "stdout",
       "text": [
        "\n",
        "sleeping for 10"
       ]
      },
      {
       "output_type": "stream",
       "stream": "stdout",
       "text": [
        "\n",
        "sleeping for 10"
       ]
      },
      {
       "output_type": "stream",
       "stream": "stdout",
       "text": [
        "\n",
        "sleeping for 10"
       ]
      },
      {
       "output_type": "stream",
       "stream": "stdout",
       "text": [
        "\n",
        "sleeping for 10"
       ]
      },
      {
       "output_type": "stream",
       "stream": "stdout",
       "text": [
        "\n",
        "sleeping for 10"
       ]
      },
      {
       "output_type": "stream",
       "stream": "stdout",
       "text": [
        "\n",
        "sleeping for 10"
       ]
      },
      {
       "output_type": "stream",
       "stream": "stdout",
       "text": [
        "\n",
        "sleeping for 10"
       ]
      },
      {
       "output_type": "stream",
       "stream": "stdout",
       "text": [
        "\n",
        "sleeping for 10"
       ]
      },
      {
       "output_type": "stream",
       "stream": "stdout",
       "text": [
        "\n",
        "sleeping for 10"
       ]
      },
      {
       "output_type": "stream",
       "stream": "stdout",
       "text": [
        "\n",
        "sleeping for 10"
       ]
      },
      {
       "output_type": "stream",
       "stream": "stdout",
       "text": [
        "\n",
        "sleeping for 10"
       ]
      },
      {
       "output_type": "stream",
       "stream": "stdout",
       "text": [
        "\n",
        "sleeping for 10"
       ]
      },
      {
       "output_type": "stream",
       "stream": "stdout",
       "text": [
        "\n",
        "sleeping for 10"
       ]
      },
      {
       "output_type": "stream",
       "stream": "stdout",
       "text": [
        "\n",
        "sleeping for 10"
       ]
      },
      {
       "output_type": "stream",
       "stream": "stdout",
       "text": [
        "\n",
        "sleeping for 10"
       ]
      },
      {
       "output_type": "stream",
       "stream": "stdout",
       "text": [
        "\n",
        "page "
       ]
      },
      {
       "output_type": "stream",
       "stream": "stdout",
       "text": [
        " 10\n",
        "subs  6501\n",
        "next url http://www.reddit.com/subreddits?count=6500&amp;after=t5_2y1el\n",
        "sleeping for 10"
       ]
      },
      {
       "output_type": "stream",
       "stream": "stdout",
       "text": [
        "\n",
        "sleeping for 10"
       ]
      },
      {
       "output_type": "stream",
       "stream": "stdout",
       "text": [
        "\n",
        "sleeping for 10"
       ]
      },
      {
       "output_type": "stream",
       "stream": "stdout",
       "text": [
        "\n",
        "page "
       ]
      },
      {
       "output_type": "stream",
       "stream": "stdout",
       "text": [
        " 11\n",
        "subs  6526\n",
        "next url http://www.reddit.com/subreddits?count=6525&amp;after=t5_2w8e7\n",
        "sleeping for 10"
       ]
      },
      {
       "output_type": "stream",
       "stream": "stdout",
       "text": [
        "\n",
        "sleeping for 10"
       ]
      },
      {
       "output_type": "stream",
       "stream": "stdout",
       "text": [
        "\n",
        "sleeping for 10"
       ]
      },
      {
       "output_type": "stream",
       "stream": "stdout",
       "text": [
        "\n",
        "sleeping for 10"
       ]
      },
      {
       "output_type": "stream",
       "stream": "stdout",
       "text": [
        "\n",
        "sleeping for 10"
       ]
      },
      {
       "output_type": "stream",
       "stream": "stdout",
       "text": [
        "\n",
        "sleeping for 10"
       ]
      },
      {
       "output_type": "stream",
       "stream": "stdout",
       "text": [
        "\n",
        "sleeping for 10"
       ]
      },
      {
       "output_type": "stream",
       "stream": "stdout",
       "text": [
        "\n",
        "sleeping for 10"
       ]
      },
      {
       "output_type": "stream",
       "stream": "stdout",
       "text": [
        "\n",
        "sleeping for 10"
       ]
      },
      {
       "output_type": "stream",
       "stream": "stdout",
       "text": [
        "\n",
        "sleeping for 10"
       ]
      },
      {
       "output_type": "stream",
       "stream": "stdout",
       "text": [
        "\n",
        "connection error"
       ]
      },
      {
       "output_type": "stream",
       "stream": "stdout",
       "text": [
        "\n",
        "sleeping for 10\n",
        "sleeping for 10"
       ]
      },
      {
       "output_type": "stream",
       "stream": "stdout",
       "text": [
        "\n",
        "connection error"
       ]
      },
      {
       "output_type": "stream",
       "stream": "stdout",
       "text": [
        "\n",
        "sleeping for 10\n"
       ]
      },
      {
       "ename": "KeyboardInterrupt",
       "evalue": "",
       "output_type": "pyerr",
       "traceback": [
        "\u001b[0;31m---------------------------------------------------------------------------\u001b[0m\n\u001b[0;31mKeyboardInterrupt\u001b[0m                         Traceback (most recent call last)",
        "\u001b[0;32m<ipython-input-93-f22873fd5ad9>\u001b[0m in \u001b[0;36m<module>\u001b[0;34m()\u001b[0m\n\u001b[1;32m     15\u001b[0m             \u001b[0;32mprint\u001b[0m \u001b[0;34m'connection error'\u001b[0m\u001b[0;34m\u001b[0m\u001b[0m\n\u001b[1;32m     16\u001b[0m             \u001b[0;32mprint\u001b[0m \u001b[0;34m'sleeping for 10'\u001b[0m\u001b[0;34m\u001b[0m\u001b[0m\n\u001b[0;32m---> 17\u001b[0;31m             \u001b[0mtime\u001b[0m\u001b[0;34m.\u001b[0m\u001b[0msleep\u001b[0m\u001b[0;34m(\u001b[0m\u001b[0;36m10\u001b[0m\u001b[0;34m)\u001b[0m\u001b[0;34m\u001b[0m\u001b[0m\n\u001b[0m\u001b[1;32m     18\u001b[0m \u001b[0;34m\u001b[0m\u001b[0m\n\u001b[1;32m     19\u001b[0m     \u001b[0mpos\u001b[0m \u001b[0;34m=\u001b[0m \u001b[0;34m[\u001b[0m\u001b[0;36m0\u001b[0m\u001b[0;34m]\u001b[0m\u001b[0;34m*\u001b[0m\u001b[0;36m4\u001b[0m\u001b[0;34m\u001b[0m\u001b[0m\n",
        "\u001b[0;31mKeyboardInterrupt\u001b[0m: "
       ]
      }
     ],
     "prompt_number": 93
    }
   ],
   "metadata": {}
  }
 ]
}