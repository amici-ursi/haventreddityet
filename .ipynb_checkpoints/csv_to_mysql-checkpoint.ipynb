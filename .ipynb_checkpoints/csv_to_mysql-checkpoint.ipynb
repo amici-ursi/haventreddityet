{
 "metadata": {
  "name": "",
  "signature": "sha256:4498e6d4e6466650cbfd29ab740bb57a31867a3df9ceb70bda7f55689499c558"
 },
 "nbformat": 3,
 "nbformat_minor": 0,
 "worksheets": []
}